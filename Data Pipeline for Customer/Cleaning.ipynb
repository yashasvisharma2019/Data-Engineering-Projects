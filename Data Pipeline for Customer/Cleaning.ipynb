{
 "cells": [
  {
   "cell_type": "code",
   "execution_count": 0,
   "metadata": {
    "application/vnd.databricks.v1+cell": {
     "cellMetadata": {
      "byteLimit": 2048000,
      "rowLimit": 10000
     },
     "inputWidgets": {},
     "nuid": "2e654c4e-82e1-4179-a158-e41b22134f54",
     "showTitle": false,
     "tableResultSettingsMap": {},
     "title": ""
    }
   },
   "outputs": [],
   "source": [
    "secret=dbutils.secrets.get('newscope12','scope')"
   ]
  },
  {
   "cell_type": "code",
   "execution_count": 0,
   "metadata": {
    "application/vnd.databricks.v1+cell": {
     "cellMetadata": {
      "byteLimit": 2048000,
      "rowLimit": 10000
     },
     "inputWidgets": {},
     "nuid": "84f47998-226d-40a4-9290-1b3dd2831bd7",
     "showTitle": false,
     "tableResultSettingsMap": {},
     "title": ""
    }
   },
   "outputs": [],
   "source": [
    "client_id = \"88dec17f-62f0-4cab-82b7-b9022c2cc21c\"\n",
    "client_secret =secret\n",
    "directory_id=\"037e0179-cd0e-4201-951c-167b7554d77a\"\n",
    "\n",
    "spark.conf.set(\"fs.azure.account.auth.type.storageforcustomers.dfs.core.windows.net\", \"OAuth\")\n",
    "spark.conf.set(\"fs.azure.account.oauth.provider.type.storageforcustomers.dfs.core.windows.net\", \"org.apache.hadoop.fs.azurebfs.oauth2.ClientCredsTokenProvider\")\n",
    "spark.conf.set(\"fs.azure.account.oauth2.client.id.storageforcustomers.dfs.core.windows.net\", client_id)\n",
    "spark.conf.set(\"fs.azure.account.oauth2.client.secret.storageforcustomers.dfs.core.windows.net\", client_secret)\n",
    "spark.conf.set(\"fs.azure.account.oauth2.client.endpoint.storageforcustomers.dfs.core.windows.net\", f\"https://login.microsoftonline.com/{directory_id}/oauth2/token\")"
   ]
  },
  {
   "cell_type": "code",
   "execution_count": 0,
   "metadata": {
    "application/vnd.databricks.v1+cell": {
     "cellMetadata": {
      "byteLimit": 2048000,
      "rowLimit": 10000
     },
     "inputWidgets": {},
     "nuid": "60f33fcf-dd77-4829-b1ee-42d84969d155",
     "showTitle": false,
     "tableResultSettingsMap": {},
     "title": ""
    }
   },
   "outputs": [
    {
     "output_type": "display_data",
     "data": {
      "text/html": [
       "<style scoped>\n",
       "  .table-result-container {\n",
       "    max-height: 300px;\n",
       "    overflow: auto;\n",
       "  }\n",
       "  table, th, td {\n",
       "    border: 1px solid black;\n",
       "    border-collapse: collapse;\n",
       "  }\n",
       "  th, td {\n",
       "    padding: 5px;\n",
       "  }\n",
       "  th {\n",
       "    text-align: left;\n",
       "  }\n",
       "</style><div class='table-result-container'><table class='table-result'><thead style='background-color: white'><tr><th>path</th><th>name</th><th>size</th><th>modificationTime</th></tr></thead><tbody><tr><td>abfss://raw@storageforcustomers.dfs.core.windows.net/accounts.csv</td><td>accounts.csv</td><td>2331</td><td>1730905206000</td></tr><tr><td>abfss://raw@storageforcustomers.dfs.core.windows.net/cleaned_data/</td><td>cleaned_data/</td><td>0</td><td>1730934907000</td></tr><tr><td>abfss://raw@storageforcustomers.dfs.core.windows.net/customers.csv</td><td>customers.csv</td><td>4603</td><td>1730905207000</td></tr><tr><td>abfss://raw@storageforcustomers.dfs.core.windows.net/loan_payments.csv</td><td>loan_payments.csv</td><td>2613</td><td>1730905205000</td></tr><tr><td>abfss://raw@storageforcustomers.dfs.core.windows.net/loans.csv</td><td>loans.csv</td><td>2340</td><td>1730905209000</td></tr><tr><td>abfss://raw@storageforcustomers.dfs.core.windows.net/transactions.csv</td><td>transactions.csv</td><td>3513</td><td>1730905207000</td></tr></tbody></table></div>"
      ]
     },
     "metadata": {
      "application/vnd.databricks.v1+output": {
       "addedWidgets": {},
       "aggData": [],
       "aggError": "",
       "aggOverflow": false,
       "aggSchema": [],
       "aggSeriesLimitReached": false,
       "aggType": "",
       "arguments": {},
       "columnCustomDisplayInfos": {},
       "data": [
        [
         "abfss://raw@storageforcustomers.dfs.core.windows.net/accounts.csv",
         "accounts.csv",
         2331,
         1730905206000
        ],
        [
         "abfss://raw@storageforcustomers.dfs.core.windows.net/cleaned_data/",
         "cleaned_data/",
         0,
         1730934907000
        ],
        [
         "abfss://raw@storageforcustomers.dfs.core.windows.net/customers.csv",
         "customers.csv",
         4603,
         1730905207000
        ],
        [
         "abfss://raw@storageforcustomers.dfs.core.windows.net/loan_payments.csv",
         "loan_payments.csv",
         2613,
         1730905205000
        ],
        [
         "abfss://raw@storageforcustomers.dfs.core.windows.net/loans.csv",
         "loans.csv",
         2340,
         1730905209000
        ],
        [
         "abfss://raw@storageforcustomers.dfs.core.windows.net/transactions.csv",
         "transactions.csv",
         3513,
         1730905207000
        ]
       ],
       "datasetInfos": [],
       "dbfsResultPath": null,
       "isJsonSchema": true,
       "metadata": {},
       "overflow": false,
       "plotOptions": {
        "customPlotOptions": {},
        "displayType": "table",
        "pivotAggregation": null,
        "pivotColumns": null,
        "xColumns": null,
        "yColumns": null
       },
       "removedWidgets": [],
       "schema": [
        {
         "metadata": "{}",
         "name": "path",
         "type": "\"string\""
        },
        {
         "metadata": "{}",
         "name": "name",
         "type": "\"string\""
        },
        {
         "metadata": "{}",
         "name": "size",
         "type": "\"long\""
        },
        {
         "metadata": "{}",
         "name": "modificationTime",
         "type": "\"long\""
        }
       ],
       "type": "table"
      }
     },
     "output_type": "display_data"
    }
   ],
   "source": [
    "display(dbutils.fs.ls(\"abfss://raw@storageforcustomers.dfs.core.windows.net\"))"
   ]
  },
  {
   "cell_type": "code",
   "execution_count": 0,
   "metadata": {
    "application/vnd.databricks.v1+cell": {
     "cellMetadata": {
      "byteLimit": 2048000,
      "rowLimit": 10000
     },
     "inputWidgets": {},
     "nuid": "083dd696-0978-4b22-bdc4-275503540521",
     "showTitle": false,
     "tableResultSettingsMap": {
      "0": {
       "filterBlob": "{\"filterGroups\":[],\"syncTimestamp\":1730933856711}",
       "tableResultIndex": 0
      }
     },
     "title": ""
    }
   },
   "outputs": [
    {
     "output_type": "display_data",
     "data": {
      "text/html": [
       "<style scoped>\n",
       "  .table-result-container {\n",
       "    max-height: 300px;\n",
       "    overflow: auto;\n",
       "  }\n",
       "  table, th, td {\n",
       "    border: 1px solid black;\n",
       "    border-collapse: collapse;\n",
       "  }\n",
       "  th, td {\n",
       "    padding: 5px;\n",
       "  }\n",
       "  th {\n",
       "    text-align: left;\n",
       "  }\n",
       "</style><div class='table-result-container'><table class='table-result'><thead style='background-color: white'><tr><th>account_id,customer_id,account_type,balance</th></tr></thead><tbody><tr><td>1,45,Savings,1000.50</td></tr><tr><td>2,12,Checking,2500.75</td></tr><tr><td>3,78,Savings,1500.00</td></tr><tr><td>4,34,Checking,3000.25</td></tr><tr><td>5,56,Savings,500.00</td></tr><tr><td>6,23,Checking,1200.50</td></tr><tr><td>7,89,Savings,800.75</td></tr><tr><td>8,67,Checking,2200.00</td></tr><tr><td>9,14,Savings,900.25</td></tr><tr><td>10,92,Checking,1800.50</td></tr><tr><td>11,3,Savings,1100.75</td></tr><tr><td>12,81,Checking,2700.00</td></tr><tr><td>13,29,Savings,1300.25</td></tr><tr><td>14,64,Checking,3200.50</td></tr><tr><td>15,47,Savings,700.75</td></tr><tr><td>16,18,Checking,1400.00</td></tr><tr><td>17,99,Savings,600.25</td></tr><tr><td>18,5,Checking,1600.50</td></tr><tr><td>19,76,Savings,400.75</td></tr><tr><td>20,21,Checking,2000.00</td></tr><tr><td>21,53,Savings,300.25</td></tr><tr><td>22,37,Checking,2400.50</td></tr><tr><td>23,88,Savings,200.75</td></tr><tr><td>24,11,Checking,2600.00</td></tr><tr><td>25,66,Savings,100.25</td></tr><tr><td>26,25,Checking,2800.50</td></tr><tr><td>27,94,Savings,50.75</td></tr><tr><td>28,7,Checking,2900.00</td></tr><tr><td>29,58,Savings,75.25</td></tr><tr><td>30,32,Checking,3100.50</td></tr><tr><td>31,71,Savings,125.75</td></tr><tr><td>32,9,Checking,3300.00</td></tr><tr><td>33,85,Savings,150.25</td></tr><tr><td>34,41,Checking,3500.50</td></tr><tr><td>35,62,Savings,175.75</td></tr><tr><td>36,27,Checking,3700.00</td></tr><tr><td>37,98,Savings,200.25</td></tr><tr><td>38,15,Checking,3900.50</td></tr><tr><td>39,74,Savings,225.75</td></tr><tr><td>40,19,Checking,4100.00</td></tr><tr><td>41,51,Savings,250.25</td></tr><tr><td>42,36,Checking,4300.50</td></tr><tr><td>43,83,Savings,275.75</td></tr><tr><td>44,13,Checking,4500.00</td></tr><tr><td>45,68,Savings,300.25</td></tr><tr><td>46,24,Checking,4700.50</td></tr><tr><td>47,95,Savings,325.75</td></tr><tr><td>48,6,Checking,4900.00</td></tr><tr><td>49,57,Savings,350.25</td></tr><tr><td>50,31,Checking,5100.50</td></tr><tr><td>51,72,Savings,375.75</td></tr><tr><td>52,10,Checking,5300.00</td></tr><tr><td>53,86,Savings,400.25</td></tr><tr><td>54,42,Checking,5500.50</td></tr><tr><td>55,63,Savings,425.75</td></tr><tr><td>56,28,Checking,5700.00</td></tr><tr><td>57,97,Savings,450.25</td></tr><tr><td>58,16,Checking,5900.50</td></tr><tr><td>59,75,Savings,475.75</td></tr><tr><td>60,20,Checking,6100.00</td></tr><tr><td>61,52,Savings,500.25</td></tr><tr><td>62,35,Checking,6300.50</td></tr><tr><td>63,84,Savings,525.75</td></tr><tr><td>64,12,Checking,6500.00</td></tr><tr><td>65,69,Savings,550.25</td></tr><tr><td>66,26,Checking,6700.50</td></tr><tr><td>67,96,Savings,575.75</td></tr><tr><td>68,8,Checking,6900.00</td></tr><tr><td>69,59,Savings,600.25</td></tr><tr><td>70,33,Checking,7100.50</td></tr><tr><td>71,73,Savings,625.75</td></tr><tr><td>72,17,Checking,7300.00</td></tr><tr><td>73,87,Savings,650.25</td></tr><tr><td>74,43,Checking,7500.50</td></tr><tr><td>75,61,Savings,675.75</td></tr><tr><td>76,22,Checking,7700.00</td></tr><tr><td>77,91,Savings,700.25</td></tr><tr><td>78,4,Checking,7900.50</td></tr><tr><td>79,55,Savings,725.75</td></tr><tr><td>80,30,Checking,8100.00</td></tr><tr><td>81,70,Savings,750.25</td></tr><tr><td>82,2,Checking,8300.50</td></tr><tr><td>83,82,Savings,775.75</td></tr><tr><td>84,40,Checking,8500.00</td></tr><tr><td>85,65,Savings,800.25</td></tr><tr><td>86,21,Checking,8700.50</td></tr><tr><td>87,93,Savings,825.75</td></tr><tr><td>88,1,Checking,8900.00</td></tr><tr><td>89,54,Savings,850.25</td></tr><tr><td>90,38,Checking,9100.50</td></tr><tr><td>91,77,Savings,875.75</td></tr><tr><td>92,44,Checking,9300.00</td></tr><tr><td>93,79,Savings,900.25</td></tr><tr><td>94,39,Checking,9500.50</td></tr><tr><td>95,60,Savings,925.75</td></tr><tr><td>96,48,Checking,9700.00</td></tr><tr><td>97,90,Savings,950.25</td></tr><tr><td>98,49,Checking,9900.50</td></tr><tr><td>99,80,Savings,975.75</td></tr><tr><td>100,50,Checking,10100.00</td></tr></tbody></table></div>"
      ]
     },
     "metadata": {
      "application/vnd.databricks.v1+output": {
       "addedWidgets": {},
       "aggData": [],
       "aggError": "",
       "aggOverflow": false,
       "aggSchema": [],
       "aggSeriesLimitReached": false,
       "aggType": "",
       "arguments": {},
       "columnCustomDisplayInfos": {},
       "data": [
        [
         "1,45,Savings,1000.50"
        ],
        [
         "2,12,Checking,2500.75"
        ],
        [
         "3,78,Savings,1500.00"
        ],
        [
         "4,34,Checking,3000.25"
        ],
        [
         "5,56,Savings,500.00"
        ],
        [
         "6,23,Checking,1200.50"
        ],
        [
         "7,89,Savings,800.75"
        ],
        [
         "8,67,Checking,2200.00"
        ],
        [
         "9,14,Savings,900.25"
        ],
        [
         "10,92,Checking,1800.50"
        ],
        [
         "11,3,Savings,1100.75"
        ],
        [
         "12,81,Checking,2700.00"
        ],
        [
         "13,29,Savings,1300.25"
        ],
        [
         "14,64,Checking,3200.50"
        ],
        [
         "15,47,Savings,700.75"
        ],
        [
         "16,18,Checking,1400.00"
        ],
        [
         "17,99,Savings,600.25"
        ],
        [
         "18,5,Checking,1600.50"
        ],
        [
         "19,76,Savings,400.75"
        ],
        [
         "20,21,Checking,2000.00"
        ],
        [
         "21,53,Savings,300.25"
        ],
        [
         "22,37,Checking,2400.50"
        ],
        [
         "23,88,Savings,200.75"
        ],
        [
         "24,11,Checking,2600.00"
        ],
        [
         "25,66,Savings,100.25"
        ],
        [
         "26,25,Checking,2800.50"
        ],
        [
         "27,94,Savings,50.75"
        ],
        [
         "28,7,Checking,2900.00"
        ],
        [
         "29,58,Savings,75.25"
        ],
        [
         "30,32,Checking,3100.50"
        ],
        [
         "31,71,Savings,125.75"
        ],
        [
         "32,9,Checking,3300.00"
        ],
        [
         "33,85,Savings,150.25"
        ],
        [
         "34,41,Checking,3500.50"
        ],
        [
         "35,62,Savings,175.75"
        ],
        [
         "36,27,Checking,3700.00"
        ],
        [
         "37,98,Savings,200.25"
        ],
        [
         "38,15,Checking,3900.50"
        ],
        [
         "39,74,Savings,225.75"
        ],
        [
         "40,19,Checking,4100.00"
        ],
        [
         "41,51,Savings,250.25"
        ],
        [
         "42,36,Checking,4300.50"
        ],
        [
         "43,83,Savings,275.75"
        ],
        [
         "44,13,Checking,4500.00"
        ],
        [
         "45,68,Savings,300.25"
        ],
        [
         "46,24,Checking,4700.50"
        ],
        [
         "47,95,Savings,325.75"
        ],
        [
         "48,6,Checking,4900.00"
        ],
        [
         "49,57,Savings,350.25"
        ],
        [
         "50,31,Checking,5100.50"
        ],
        [
         "51,72,Savings,375.75"
        ],
        [
         "52,10,Checking,5300.00"
        ],
        [
         "53,86,Savings,400.25"
        ],
        [
         "54,42,Checking,5500.50"
        ],
        [
         "55,63,Savings,425.75"
        ],
        [
         "56,28,Checking,5700.00"
        ],
        [
         "57,97,Savings,450.25"
        ],
        [
         "58,16,Checking,5900.50"
        ],
        [
         "59,75,Savings,475.75"
        ],
        [
         "60,20,Checking,6100.00"
        ],
        [
         "61,52,Savings,500.25"
        ],
        [
         "62,35,Checking,6300.50"
        ],
        [
         "63,84,Savings,525.75"
        ],
        [
         "64,12,Checking,6500.00"
        ],
        [
         "65,69,Savings,550.25"
        ],
        [
         "66,26,Checking,6700.50"
        ],
        [
         "67,96,Savings,575.75"
        ],
        [
         "68,8,Checking,6900.00"
        ],
        [
         "69,59,Savings,600.25"
        ],
        [
         "70,33,Checking,7100.50"
        ],
        [
         "71,73,Savings,625.75"
        ],
        [
         "72,17,Checking,7300.00"
        ],
        [
         "73,87,Savings,650.25"
        ],
        [
         "74,43,Checking,7500.50"
        ],
        [
         "75,61,Savings,675.75"
        ],
        [
         "76,22,Checking,7700.00"
        ],
        [
         "77,91,Savings,700.25"
        ],
        [
         "78,4,Checking,7900.50"
        ],
        [
         "79,55,Savings,725.75"
        ],
        [
         "80,30,Checking,8100.00"
        ],
        [
         "81,70,Savings,750.25"
        ],
        [
         "82,2,Checking,8300.50"
        ],
        [
         "83,82,Savings,775.75"
        ],
        [
         "84,40,Checking,8500.00"
        ],
        [
         "85,65,Savings,800.25"
        ],
        [
         "86,21,Checking,8700.50"
        ],
        [
         "87,93,Savings,825.75"
        ],
        [
         "88,1,Checking,8900.00"
        ],
        [
         "89,54,Savings,850.25"
        ],
        [
         "90,38,Checking,9100.50"
        ],
        [
         "91,77,Savings,875.75"
        ],
        [
         "92,44,Checking,9300.00"
        ],
        [
         "93,79,Savings,900.25"
        ],
        [
         "94,39,Checking,9500.50"
        ],
        [
         "95,60,Savings,925.75"
        ],
        [
         "96,48,Checking,9700.00"
        ],
        [
         "97,90,Savings,950.25"
        ],
        [
         "98,49,Checking,9900.50"
        ],
        [
         "99,80,Savings,975.75"
        ],
        [
         "100,50,Checking,10100.00"
        ]
       ],
       "datasetInfos": [],
       "dbfsResultPath": null,
       "isJsonSchema": true,
       "metadata": {},
       "overflow": false,
       "plotOptions": {
        "customPlotOptions": {},
        "displayType": "table",
        "pivotAggregation": null,
        "pivotColumns": null,
        "xColumns": null,
        "yColumns": null
       },
       "removedWidgets": [],
       "schema": [
        {
         "metadata": "{}",
         "name": "account_id,customer_id,account_type,balance",
         "type": "\"string\""
        }
       ],
       "type": "table"
      }
     },
     "output_type": "display_data"
    }
   ],
   "source": [
    "\n",
    "df = spark.read \\\n",
    "    .option(\"header\", \"true\") \\\n",
    "    .option(\"delimiter\", \"\\t\") \\\n",
    "    .csv(\"abfss://raw@storageforcustomers.dfs.core.windows.net/accounts.csv\")\n",
    "display(df)\n",
    "\n"
   ]
  },
  {
   "cell_type": "code",
   "execution_count": 0,
   "metadata": {
    "application/vnd.databricks.v1+cell": {
     "cellMetadata": {
      "byteLimit": 2048000,
      "rowLimit": 10000
     },
     "inputWidgets": {},
     "nuid": "614302c6-b4f1-4474-9e08-9c256b0d44c8",
     "showTitle": false,
     "tableResultSettingsMap": {},
     "title": ""
    }
   },
   "outputs": [
    {
     "output_type": "stream",
     "name": "stdout",
     "output_type": "stream",
     "text": [
      "root\n |-- account_id: integer (nullable = true)\n |-- customer_id: integer (nullable = true)\n |-- account_type: string (nullable = true)\n |-- balance: double (nullable = true)\n\n"
     ]
    }
   ],
   "source": [
    "from pyspark.sql.functions import *\n",
    "from pyspark.sql.types import IntegerType, StringType, DoubleType\n",
    "df_split = df.select(split(col(\"account_id,customer_id,account_type,balance\"), \",\").alias(\"split_cols\")\n",
    ")\n",
    "\n",
    "df_modified = df_split.select(\n",
    "    col(\"split_cols\").getItem(0).cast(IntegerType()).alias(\"account_id\"),\n",
    "    col(\"split_cols\").getItem(1).cast(IntegerType()).alias(\"customer_id\"),\n",
    "    col(\"split_cols\").getItem(2).cast(StringType()).alias(\"account_type\"),\n",
    "    col(\"split_cols\").getItem(3).cast(DoubleType()).alias(\"balance\")\n",
    ")\n",
    "df_modified.printSchema()"
   ]
  },
  {
   "cell_type": "code",
   "execution_count": 0,
   "metadata": {
    "application/vnd.databricks.v1+cell": {
     "cellMetadata": {
      "byteLimit": 2048000,
      "rowLimit": 10000
     },
     "inputWidgets": {},
     "nuid": "6a83aa52-cfac-412f-b1c9-2a89e98f4ce5",
     "showTitle": false,
     "tableResultSettingsMap": {},
     "title": ""
    }
   },
   "outputs": [
    {
     "output_type": "stream",
     "name": "stdout",
     "output_type": "stream",
     "text": [
      "+----------+-----------+------------+-------+\n|account_id|customer_id|account_type|balance|\n+----------+-----------+------------+-------+\n|         1|         45|     Savings| 1000.5|\n|         2|         12|    Checking|2500.75|\n|         3|         78|     Savings| 1500.0|\n|         4|         34|    Checking|3000.25|\n|         5|         56|     Savings|  500.0|\n|         6|         23|    Checking| 1200.5|\n|         7|         89|     Savings| 800.75|\n|         8|         67|    Checking| 2200.0|\n|         9|         14|     Savings| 900.25|\n|        10|         92|    Checking| 1800.5|\n|        11|          3|     Savings|1100.75|\n|        12|         81|    Checking| 2700.0|\n|        13|         29|     Savings|1300.25|\n|        14|         64|    Checking| 3200.5|\n|        15|         47|     Savings| 700.75|\n|        16|         18|    Checking| 1400.0|\n|        17|         99|     Savings| 600.25|\n|        18|          5|    Checking| 1600.5|\n|        19|         76|     Savings| 400.75|\n|        20|         21|    Checking| 2000.0|\n+----------+-----------+------------+-------+\nonly showing top 20 rows\n\n"
     ]
    }
   ],
   "source": [
    "df_modified.show(20)"
   ]
  },
  {
   "cell_type": "code",
   "execution_count": 0,
   "metadata": {
    "application/vnd.databricks.v1+cell": {
     "cellMetadata": {
      "byteLimit": 2048000,
      "rowLimit": 10000
     },
     "inputWidgets": {},
     "nuid": "8edff221-73c6-4c00-ab5f-702b7845ac00",
     "showTitle": false,
     "tableResultSettingsMap": {},
     "title": ""
    }
   },
   "outputs": [],
   "source": [
    "df_modified.write.format(\"delta\").mode(\"overwrite\").save(\"abfss://raw@storageforcustomers.dfs.core.windows.net/cleaned_data/accounts.csv\")\n"
   ]
  },
  {
   "cell_type": "code",
   "execution_count": 0,
   "metadata": {
    "application/vnd.databricks.v1+cell": {
     "cellMetadata": {
      "byteLimit": 2048000,
      "rowLimit": 10000
     },
     "inputWidgets": {},
     "nuid": "35eec828-71c0-470e-b431-95644bca6de2",
     "showTitle": false,
     "tableResultSettingsMap": {},
     "title": ""
    }
   },
   "outputs": [
    {
     "output_type": "stream",
     "name": "stdout",
     "output_type": "stream",
     "text": [
      "+----------+-----------+------------+-------+\n|account_id|customer_id|account_type|balance|\n+----------+-----------+------------+-------+\n|         1|         45|     Savings| 1000.5|\n|         2|         12|    Checking|2500.75|\n|         3|         78|     Savings| 1500.0|\n|         4|         34|    Checking|3000.25|\n|         5|         56|     Savings|  500.0|\n|         6|         23|    Checking| 1200.5|\n|         7|         89|     Savings| 800.75|\n|         8|         67|    Checking| 2200.0|\n|         9|         14|     Savings| 900.25|\n|        10|         92|    Checking| 1800.5|\n|        11|          3|     Savings|1100.75|\n|        12|         81|    Checking| 2700.0|\n|        13|         29|     Savings|1300.25|\n|        14|         64|    Checking| 3200.5|\n|        15|         47|     Savings| 700.75|\n|        16|         18|    Checking| 1400.0|\n|        17|         99|     Savings| 600.25|\n|        18|          5|    Checking| 1600.5|\n|        19|         76|     Savings| 400.75|\n|        20|         21|    Checking| 2000.0|\n+----------+-----------+------------+-------+\nonly showing top 20 rows\n\n"
     ]
    }
   ],
   "source": [
    "df_modified123 = spark.read.format(\"delta\").load(\"abfss://raw@storageforcustomers.dfs.core.windows.net/cleaned_data/accounts.csv\")\n",
    "df_modified123.show(20)"
   ]
  },
  {
   "cell_type": "code",
   "execution_count": 0,
   "metadata": {
    "application/vnd.databricks.v1+cell": {
     "cellMetadata": {
      "byteLimit": 2048000,
      "rowLimit": 10000
     },
     "inputWidgets": {},
     "nuid": "d0c07451-0c6b-4c53-ae04-85bfa5e2d7ac",
     "showTitle": false,
     "tableResultSettingsMap": {},
     "title": ""
    }
   },
   "outputs": [
    {
     "output_type": "display_data",
     "data": {
      "text/html": [
       "<style scoped>\n",
       "  .table-result-container {\n",
       "    max-height: 300px;\n",
       "    overflow: auto;\n",
       "  }\n",
       "  table, th, td {\n",
       "    border: 1px solid black;\n",
       "    border-collapse: collapse;\n",
       "  }\n",
       "  th, td {\n",
       "    padding: 5px;\n",
       "  }\n",
       "  th {\n",
       "    text-align: left;\n",
       "  }\n",
       "</style><div class='table-result-container'><table class='table-result'><thead style='background-color: white'><tr><th>account_id,customer_id,account_type,balance</th></tr></thead><tbody><tr><td>1,45,Savings,1000.50</td></tr><tr><td>2,12,Checking,2500.75</td></tr><tr><td>3,78,Savings,1500.00</td></tr><tr><td>4,34,Checking,3000.25</td></tr><tr><td>5,56,Savings,500.00</td></tr><tr><td>6,23,Checking,1200.50</td></tr><tr><td>7,89,Savings,800.75</td></tr><tr><td>8,67,Checking,2200.00</td></tr><tr><td>9,14,Savings,900.25</td></tr><tr><td>10,92,Checking,1800.50</td></tr><tr><td>11,3,Savings,1100.75</td></tr><tr><td>12,81,Checking,2700.00</td></tr><tr><td>13,29,Savings,1300.25</td></tr><tr><td>14,64,Checking,3200.50</td></tr><tr><td>15,47,Savings,700.75</td></tr><tr><td>16,18,Checking,1400.00</td></tr><tr><td>17,99,Savings,600.25</td></tr><tr><td>18,5,Checking,1600.50</td></tr><tr><td>19,76,Savings,400.75</td></tr><tr><td>20,21,Checking,2000.00</td></tr><tr><td>21,53,Savings,300.25</td></tr><tr><td>22,37,Checking,2400.50</td></tr><tr><td>23,88,Savings,200.75</td></tr><tr><td>24,11,Checking,2600.00</td></tr><tr><td>25,66,Savings,100.25</td></tr><tr><td>26,25,Checking,2800.50</td></tr><tr><td>27,94,Savings,50.75</td></tr><tr><td>28,7,Checking,2900.00</td></tr><tr><td>29,58,Savings,75.25</td></tr><tr><td>30,32,Checking,3100.50</td></tr><tr><td>31,71,Savings,125.75</td></tr><tr><td>32,9,Checking,3300.00</td></tr><tr><td>33,85,Savings,150.25</td></tr><tr><td>34,41,Checking,3500.50</td></tr><tr><td>35,62,Savings,175.75</td></tr><tr><td>36,27,Checking,3700.00</td></tr><tr><td>37,98,Savings,200.25</td></tr><tr><td>38,15,Checking,3900.50</td></tr><tr><td>39,74,Savings,225.75</td></tr><tr><td>40,19,Checking,4100.00</td></tr><tr><td>41,51,Savings,250.25</td></tr><tr><td>42,36,Checking,4300.50</td></tr><tr><td>43,83,Savings,275.75</td></tr><tr><td>44,13,Checking,4500.00</td></tr><tr><td>45,68,Savings,300.25</td></tr><tr><td>46,24,Checking,4700.50</td></tr><tr><td>47,95,Savings,325.75</td></tr><tr><td>48,6,Checking,4900.00</td></tr><tr><td>49,57,Savings,350.25</td></tr><tr><td>50,31,Checking,5100.50</td></tr><tr><td>51,72,Savings,375.75</td></tr><tr><td>52,10,Checking,5300.00</td></tr><tr><td>53,86,Savings,400.25</td></tr><tr><td>54,42,Checking,5500.50</td></tr><tr><td>55,63,Savings,425.75</td></tr><tr><td>56,28,Checking,5700.00</td></tr><tr><td>57,97,Savings,450.25</td></tr><tr><td>58,16,Checking,5900.50</td></tr><tr><td>59,75,Savings,475.75</td></tr><tr><td>60,20,Checking,6100.00</td></tr><tr><td>61,52,Savings,500.25</td></tr><tr><td>62,35,Checking,6300.50</td></tr><tr><td>63,84,Savings,525.75</td></tr><tr><td>64,12,Checking,6500.00</td></tr><tr><td>65,69,Savings,550.25</td></tr><tr><td>66,26,Checking,6700.50</td></tr><tr><td>67,96,Savings,575.75</td></tr><tr><td>68,8,Checking,6900.00</td></tr><tr><td>69,59,Savings,600.25</td></tr><tr><td>70,33,Checking,7100.50</td></tr><tr><td>71,73,Savings,625.75</td></tr><tr><td>72,17,Checking,7300.00</td></tr><tr><td>73,87,Savings,650.25</td></tr><tr><td>74,43,Checking,7500.50</td></tr><tr><td>75,61,Savings,675.75</td></tr><tr><td>76,22,Checking,7700.00</td></tr><tr><td>77,91,Savings,700.25</td></tr><tr><td>78,4,Checking,7900.50</td></tr><tr><td>79,55,Savings,725.75</td></tr><tr><td>80,30,Checking,8100.00</td></tr><tr><td>81,70,Savings,750.25</td></tr><tr><td>82,2,Checking,8300.50</td></tr><tr><td>83,82,Savings,775.75</td></tr><tr><td>84,40,Checking,8500.00</td></tr><tr><td>85,65,Savings,800.25</td></tr><tr><td>86,21,Checking,8700.50</td></tr><tr><td>87,93,Savings,825.75</td></tr><tr><td>88,1,Checking,8900.00</td></tr><tr><td>89,54,Savings,850.25</td></tr><tr><td>90,38,Checking,9100.50</td></tr><tr><td>91,77,Savings,875.75</td></tr><tr><td>92,44,Checking,9300.00</td></tr><tr><td>93,79,Savings,900.25</td></tr><tr><td>94,39,Checking,9500.50</td></tr><tr><td>95,60,Savings,925.75</td></tr><tr><td>96,48,Checking,9700.00</td></tr><tr><td>97,90,Savings,950.25</td></tr><tr><td>98,49,Checking,9900.50</td></tr><tr><td>99,80,Savings,975.75</td></tr><tr><td>100,50,Checking,10100.00</td></tr></tbody></table></div>"
      ]
     },
     "metadata": {
      "application/vnd.databricks.v1+output": {
       "addedWidgets": {},
       "aggData": [],
       "aggError": "",
       "aggOverflow": false,
       "aggSchema": [],
       "aggSeriesLimitReached": false,
       "aggType": "",
       "arguments": {},
       "columnCustomDisplayInfos": {},
       "data": [
        [
         "1,45,Savings,1000.50"
        ],
        [
         "2,12,Checking,2500.75"
        ],
        [
         "3,78,Savings,1500.00"
        ],
        [
         "4,34,Checking,3000.25"
        ],
        [
         "5,56,Savings,500.00"
        ],
        [
         "6,23,Checking,1200.50"
        ],
        [
         "7,89,Savings,800.75"
        ],
        [
         "8,67,Checking,2200.00"
        ],
        [
         "9,14,Savings,900.25"
        ],
        [
         "10,92,Checking,1800.50"
        ],
        [
         "11,3,Savings,1100.75"
        ],
        [
         "12,81,Checking,2700.00"
        ],
        [
         "13,29,Savings,1300.25"
        ],
        [
         "14,64,Checking,3200.50"
        ],
        [
         "15,47,Savings,700.75"
        ],
        [
         "16,18,Checking,1400.00"
        ],
        [
         "17,99,Savings,600.25"
        ],
        [
         "18,5,Checking,1600.50"
        ],
        [
         "19,76,Savings,400.75"
        ],
        [
         "20,21,Checking,2000.00"
        ],
        [
         "21,53,Savings,300.25"
        ],
        [
         "22,37,Checking,2400.50"
        ],
        [
         "23,88,Savings,200.75"
        ],
        [
         "24,11,Checking,2600.00"
        ],
        [
         "25,66,Savings,100.25"
        ],
        [
         "26,25,Checking,2800.50"
        ],
        [
         "27,94,Savings,50.75"
        ],
        [
         "28,7,Checking,2900.00"
        ],
        [
         "29,58,Savings,75.25"
        ],
        [
         "30,32,Checking,3100.50"
        ],
        [
         "31,71,Savings,125.75"
        ],
        [
         "32,9,Checking,3300.00"
        ],
        [
         "33,85,Savings,150.25"
        ],
        [
         "34,41,Checking,3500.50"
        ],
        [
         "35,62,Savings,175.75"
        ],
        [
         "36,27,Checking,3700.00"
        ],
        [
         "37,98,Savings,200.25"
        ],
        [
         "38,15,Checking,3900.50"
        ],
        [
         "39,74,Savings,225.75"
        ],
        [
         "40,19,Checking,4100.00"
        ],
        [
         "41,51,Savings,250.25"
        ],
        [
         "42,36,Checking,4300.50"
        ],
        [
         "43,83,Savings,275.75"
        ],
        [
         "44,13,Checking,4500.00"
        ],
        [
         "45,68,Savings,300.25"
        ],
        [
         "46,24,Checking,4700.50"
        ],
        [
         "47,95,Savings,325.75"
        ],
        [
         "48,6,Checking,4900.00"
        ],
        [
         "49,57,Savings,350.25"
        ],
        [
         "50,31,Checking,5100.50"
        ],
        [
         "51,72,Savings,375.75"
        ],
        [
         "52,10,Checking,5300.00"
        ],
        [
         "53,86,Savings,400.25"
        ],
        [
         "54,42,Checking,5500.50"
        ],
        [
         "55,63,Savings,425.75"
        ],
        [
         "56,28,Checking,5700.00"
        ],
        [
         "57,97,Savings,450.25"
        ],
        [
         "58,16,Checking,5900.50"
        ],
        [
         "59,75,Savings,475.75"
        ],
        [
         "60,20,Checking,6100.00"
        ],
        [
         "61,52,Savings,500.25"
        ],
        [
         "62,35,Checking,6300.50"
        ],
        [
         "63,84,Savings,525.75"
        ],
        [
         "64,12,Checking,6500.00"
        ],
        [
         "65,69,Savings,550.25"
        ],
        [
         "66,26,Checking,6700.50"
        ],
        [
         "67,96,Savings,575.75"
        ],
        [
         "68,8,Checking,6900.00"
        ],
        [
         "69,59,Savings,600.25"
        ],
        [
         "70,33,Checking,7100.50"
        ],
        [
         "71,73,Savings,625.75"
        ],
        [
         "72,17,Checking,7300.00"
        ],
        [
         "73,87,Savings,650.25"
        ],
        [
         "74,43,Checking,7500.50"
        ],
        [
         "75,61,Savings,675.75"
        ],
        [
         "76,22,Checking,7700.00"
        ],
        [
         "77,91,Savings,700.25"
        ],
        [
         "78,4,Checking,7900.50"
        ],
        [
         "79,55,Savings,725.75"
        ],
        [
         "80,30,Checking,8100.00"
        ],
        [
         "81,70,Savings,750.25"
        ],
        [
         "82,2,Checking,8300.50"
        ],
        [
         "83,82,Savings,775.75"
        ],
        [
         "84,40,Checking,8500.00"
        ],
        [
         "85,65,Savings,800.25"
        ],
        [
         "86,21,Checking,8700.50"
        ],
        [
         "87,93,Savings,825.75"
        ],
        [
         "88,1,Checking,8900.00"
        ],
        [
         "89,54,Savings,850.25"
        ],
        [
         "90,38,Checking,9100.50"
        ],
        [
         "91,77,Savings,875.75"
        ],
        [
         "92,44,Checking,9300.00"
        ],
        [
         "93,79,Savings,900.25"
        ],
        [
         "94,39,Checking,9500.50"
        ],
        [
         "95,60,Savings,925.75"
        ],
        [
         "96,48,Checking,9700.00"
        ],
        [
         "97,90,Savings,950.25"
        ],
        [
         "98,49,Checking,9900.50"
        ],
        [
         "99,80,Savings,975.75"
        ],
        [
         "100,50,Checking,10100.00"
        ]
       ],
       "datasetInfos": [],
       "dbfsResultPath": null,
       "isJsonSchema": true,
       "metadata": {},
       "overflow": false,
       "plotOptions": {
        "customPlotOptions": {},
        "displayType": "table",
        "pivotAggregation": null,
        "pivotColumns": null,
        "xColumns": null,
        "yColumns": null
       },
       "removedWidgets": [],
       "schema": [
        {
         "metadata": "{}",
         "name": "account_id,customer_id,account_type,balance",
         "type": "\"string\""
        }
       ],
       "type": "table"
      }
     },
     "output_type": "display_data"
    }
   ],
   "source": [
    "df_customers = spark.read \\\n",
    "    .option(\"header\", \"true\") \\\n",
    "    .option(\"delimiter\", \"\\t\") \\\n",
    "    .csv(\"abfss://raw@storageforcustomers.dfs.core.windows.net/customers.csv\")\n",
    "display(df)"
   ]
  },
  {
   "cell_type": "code",
   "execution_count": 0,
   "metadata": {
    "application/vnd.databricks.v1+cell": {
     "cellMetadata": {
      "byteLimit": 2048000,
      "rowLimit": 10000
     },
     "inputWidgets": {},
     "nuid": "a221aa61-9387-49f9-a7f5-aba21a416384",
     "showTitle": false,
     "tableResultSettingsMap": {},
     "title": ""
    }
   },
   "outputs": [
    {
     "output_type": "stream",
     "name": "stdout",
     "output_type": "stream",
     "text": [
      "root\n |-- customer_id: integer (nullable = true)\n |-- first_name: string (nullable = true)\n |-- last_name: string (nullable = true)\n |-- address: string (nullable = true)\n |-- city: string (nullable = true)\n |-- state: string (nullable = true)\n |-- zip: string (nullable = true)\n\n"
     ]
    }
   ],
   "source": [
    "from pyspark.sql.functions import *\n",
    "from pyspark.sql.types import *\n",
    "\n",
    "\n",
    "df_split = df_customers.select(split(col(\"customer_id,first_name,last_name,address,city,state,zip\"), \",\").alias(\"split_cols\"))\n",
    "\n",
    "df_modified_1 = df_split.select(\n",
    "    col(\"split_cols\").getItem(0).cast(IntegerType()).alias(\"customer_id\"),\n",
    "    col(\"split_cols\").getItem(1).cast(StringType()).alias(\"first_name\"),\n",
    "    col(\"split_cols\").getItem(2).cast(StringType()).alias(\"last_name\"),\n",
    "    col(\"split_cols\").getItem(3).cast(StringType()).alias(\"address\"),\n",
    "    col(\"split_cols\").getItem(4).cast(StringType()).alias(\"city\"),\n",
    "    col(\"split_cols\").getItem(5).cast(StringType()).alias(\"state\"),\n",
    "    col(\"split_cols\").getItem(6).cast(StringType()).alias(\"zip\")\n",
    ")\n",
    "\n",
    "df_modified_1.printSchema()"
   ]
  },
  {
   "cell_type": "code",
   "execution_count": 0,
   "metadata": {
    "application/vnd.databricks.v1+cell": {
     "cellMetadata": {
      "byteLimit": 2048000,
      "rowLimit": 10000
     },
     "inputWidgets": {},
     "nuid": "86e32bf2-eb42-4411-a3bd-b54901c92494",
     "showTitle": false,
     "tableResultSettingsMap": {},
     "title": ""
    }
   },
   "outputs": [
    {
     "output_type": "stream",
     "name": "stdout",
     "output_type": "stream",
     "text": [
      "+-----------+-----------+----------+----------------+--------------+-----+------+\n|customer_id| first_name| last_name|         address|          city|state|   zip|\n+-----------+-----------+----------+----------------+--------------+-----+------+\n|          1|       John|       Doe|      123 Elm St|       Toronto|   ON|M4B1B3|\n|          2|       Jane|     Smith|   456 Maple Ave|        Ottawa|   ON|K1A0B1|\n|          3|    Michael|   Johnson|      789 Oak Dr|      Montreal|   QC|H1A1A1|\n|          4|      Emily|     Davis|     101 Pine Rd|       Calgary|   AB|T2A0A1|\n|          5|      David|    Wilson|  202 Birch Blvd|     Vancouver|   BC|V5K0A1|\n|          6|       Emma|     Clark|    505 Cedar St|       Halifax|   NS|B3H0A1|\n|          7|      James|  Martinez|   606 Spruce Ln|      Winnipeg|   MB|R3C0A1|\n|          8|     Olivia|    Garcia|      707 Fir St|      Edmonton|   AB|T5A0A1|\n|          9|    William|     Lopez|  808 Redwood Dr|      Victoria|   BC|V8W0A1|\n|         10|        Ava|  Anderson| 909 Cypress Ave|   Quebec City|   QC|G1A0A1|\n|         11|  Alexander|    Thomas|  1010 Willow Rd|    St. John's|   NL|A1A0A1|\n|         12|   Isabella|       Lee|  1111 Poplar St|   Fredericton|   NB|E3B0A1|\n|         13|     Daniel|    Harris|   1212 Ash Blvd| Charlottetown|   PE|C1A0A1|\n|         14|     Sophia|     Young|   1313 Beech Dr|   Yellowknife|   NT|X1A0A1|\n|         15|    Matthew|      King|   1414 Cedar Ln|    Whitehorse|   YT|Y1A0A1|\n|         16|  Charlotte|     Scott|     1515 Elm St|       Iqaluit|   NU|X0A0A1|\n|         17|     Joseph|     Green|  1616 Maple Ave|        Regina|   SK|S4P0A1|\n|         18|     Amelia|     Adams|     1717 Oak Dr|     Saskatoon|   SK|S7K0A1|\n|         19|Christopher|     Baker|    1818 Pine Rd|   Thunder Bay|   ON|P7A0A1|\n|         20|        Mia|    Nelson| 1919 Birch Blvd|        London|   ON|N6A0A1|\n|         21|     Andrew|  Mitchell|  2020 Spruce Ln|      Hamilton|   ON|L8P0A1|\n|         22|     Harper|   Roberts|     2121 Fir St|     Kitchener|   ON|N2G0A1|\n|         23|     Joshua|    Turner| 2222 Redwood Dr|       Windsor|   ON|N9A0A1|\n|         24|     Evelyn|  Phillips|2323 Cypress Ave|      Kingston|   ON|K7L0A1|\n|         25|     Daniel|  Campbell|  2424 Willow Rd|St. Catharines|   ON|L2R0A1|\n|         26|    Abigail|    Parker|  2525 Poplar St|        Barrie|   ON|L4M0A1|\n|         27|      James|     Evans|   2626 Ash Blvd|        Guelph|   ON|N1H0A1|\n|         28|      Emily|   Edwards|   2727 Beech Dr|     Brantford|   ON|N3T0A1|\n|         29|    Michael|   Collins|   2828 Cedar Ln|   Thunder Bay|   ON|P7B0A1|\n|         30|  Elizabeth|   Stewart|     2929 Elm St|  Peterborough|   ON|K9H0A1|\n|         31|      David|   Sanchez|  3030 Maple Ave|     North Bay|   ON|P1B0A1|\n|         32|     Sophia|    Morris|     3131 Oak Dr|    Belleville|   ON|K8N0A1|\n|         33|       John|    Rogers|    3232 Pine Rd|       Timmins|   ON|P4N0A1|\n|         34|     Olivia|      Reed| 3333 Birch Blvd|       Orillia|   ON|L3V0A1|\n|         35|    William|      Cook|  3434 Spruce Ln|       Midland|   ON|L4R0A1|\n|         36|        Ava|    Morgan|     3535 Fir St|   Collingwood|   ON|L9Y0A1|\n|         37|  Alexander|      Bell| 3636 Redwood Dr|     Stratford|   ON|N5A0A1|\n|         38|   Isabella|    Murphy|3737 Cypress Ave|     Woodstock|   ON|N4S0A1|\n|         39|     Daniel|    Bailey|  3838 Willow Rd|   Orangeville|   ON|L9W0A1|\n|         40|     Sophia|    Rivera|  3939 Poplar St|        Milton|   ON|L9T0A1|\n|         41|    Matthew|    Cooper|   4040 Ash Blvd|    Georgetown|   ON|L7G0A1|\n|         42|  Charlotte|Richardson|   4141 Beech Dr|     Newmarket|   ON|L3Y0A1|\n|         43|     Joseph|       Cox|   4242 Cedar Ln|        Aurora|   ON|L4G0A1|\n|         44|     Amelia|    Howard|     4343 Elm St|      Bradford|   ON|L3Z0A1|\n|         45|Christopher|      Ward|  4444 Maple Ave|       Keswick|   ON|L4P0A1|\n|         46|        Mia|    Brooks|     4545 Oak Dr|   Stouffville|   ON|L4A0A1|\n|         47|     Andrew|      Gray|    4646 Pine Rd|      Uxbridge|   ON|L9P0A1|\n|         48|     Harper|     James| 4747 Birch Blvd|    Port Perry|   ON|L9L0A1|\n|         49|     Joshua|   Bennett|  4848 Spruce Ln|     Beaverton|   ON|L0K0A1|\n|         50|     Evelyn|    Barnes|     4949 Fir St|        Sutton|   ON|L0E0A1|\n+-----------+-----------+----------+----------------+--------------+-----+------+\nonly showing top 50 rows\n\n"
     ]
    }
   ],
   "source": [
    "df_modified_1.show(50)"
   ]
  },
  {
   "cell_type": "code",
   "execution_count": 0,
   "metadata": {
    "application/vnd.databricks.v1+cell": {
     "cellMetadata": {
      "byteLimit": 2048000,
      "rowLimit": 10000
     },
     "inputWidgets": {},
     "nuid": "9440fe38-aa9e-4f95-b4de-1bfd378adbad",
     "showTitle": false,
     "tableResultSettingsMap": {},
     "title": ""
    }
   },
   "outputs": [],
   "source": [
    "df_modified_1.write.format(\"delta\").mode(\"overwrite\").save(\"abfss://raw@storageforcustomers.dfs.core.windows.net/cleaned_data/customers.csv\")"
   ]
  },
  {
   "cell_type": "code",
   "execution_count": 0,
   "metadata": {
    "application/vnd.databricks.v1+cell": {
     "cellMetadata": {
      "byteLimit": 2048000,
      "rowLimit": 10000
     },
     "inputWidgets": {},
     "nuid": "37de5633-341a-495d-b6b0-4c6421abfc54",
     "showTitle": false,
     "tableResultSettingsMap": {},
     "title": ""
    }
   },
   "outputs": [
    {
     "output_type": "display_data",
     "data": {
      "text/html": [
       "<style scoped>\n",
       "  .table-result-container {\n",
       "    max-height: 300px;\n",
       "    overflow: auto;\n",
       "  }\n",
       "  table, th, td {\n",
       "    border: 1px solid black;\n",
       "    border-collapse: collapse;\n",
       "  }\n",
       "  th, td {\n",
       "    padding: 5px;\n",
       "  }\n",
       "  th {\n",
       "    text-align: left;\n",
       "  }\n",
       "</style><div class='table-result-container'><table class='table-result'><thead style='background-color: white'><tr><th>payment_id</th><th>loan_id</th><th>payment_date</th><th>payment_amount</th></tr></thead><tbody><tr><td>1</td><td>45</td><td>2024-01-01</td><td>100.00</td></tr><tr><td>2</td><td>23</td><td>2024-01-02</td><td>150.00</td></tr><tr><td>3</td><td>67</td><td>2024-01-03</td><td>200.00</td></tr><tr><td>4</td><td>89</td><td>2024-01-04</td><td>250.00</td></tr><tr><td>5</td><td>12</td><td>2024-01-05</td><td>300.00</td></tr><tr><td>6</td><td>34</td><td>2024-01-06</td><td>350.00</td></tr><tr><td>7</td><td>56</td><td>2024-01-07</td><td>400.00</td></tr><tr><td>8</td><td>78</td><td>2024-01-08</td><td>450.00</td></tr><tr><td>9</td><td>90</td><td>2024-01-09</td><td>500.00</td></tr><tr><td>10</td><td>11</td><td>2024-01-10</td><td>550.00</td></tr><tr><td>11</td><td>22</td><td>2024-01-11</td><td>600.00</td></tr><tr><td>12</td><td>33</td><td>2024-01-12</td><td>650.00</td></tr><tr><td>13</td><td>44</td><td>2024-01-13</td><td>700.00</td></tr><tr><td>14</td><td>55</td><td>2024-01-14</td><td>750.00</td></tr><tr><td>15</td><td>66</td><td>2024-01-15</td><td>800.00</td></tr><tr><td>16</td><td>77</td><td>2024-01-16</td><td>850.00</td></tr><tr><td>17</td><td>88</td><td>2024-01-17</td><td>900.00</td></tr><tr><td>18</td><td>99</td><td>2024-01-18</td><td>950.00</td></tr><tr><td>19</td><td>10</td><td>2024-01-19</td><td>1000.00</td></tr><tr><td>20</td><td>21</td><td>2024-01-20</td><td>1050.00</td></tr><tr><td>21</td><td>32</td><td>2024-01-21</td><td>1100.00</td></tr><tr><td>22</td><td>43</td><td>2024-01-22</td><td>1150.00</td></tr><tr><td>23</td><td>54</td><td>2024-01-23</td><td>1200.00</td></tr><tr><td>24</td><td>65</td><td>2024-01-24</td><td>1250.00</td></tr><tr><td>25</td><td>76</td><td>2024-01-25</td><td>1300.00</td></tr><tr><td>26</td><td>87</td><td>2024-01-26</td><td>1350.00</td></tr><tr><td>27</td><td>98</td><td>2024-01-27</td><td>1400.00</td></tr><tr><td>28</td><td>9</td><td>2024-01-28</td><td>1450.00</td></tr><tr><td>29</td><td>20</td><td>2024-01-29</td><td>1500.00</td></tr><tr><td>30</td><td>31</td><td>2024-01-30</td><td>1550.00</td></tr><tr><td>31</td><td>42</td><td>2024-01-31</td><td>1600.00</td></tr><tr><td>32</td><td>53</td><td>2024-02-01</td><td>1650.00</td></tr><tr><td>33</td><td>64</td><td>2024-02-02</td><td>1700.00</td></tr><tr><td>34</td><td>75</td><td>2024-02-03</td><td>1750.00</td></tr><tr><td>35</td><td>86</td><td>2024-02-04</td><td>1800.00</td></tr><tr><td>36</td><td>97</td><td>2024-02-05</td><td>1850.00</td></tr><tr><td>37</td><td>8</td><td>2024-02-06</td><td>1900.00</td></tr><tr><td>38</td><td>19</td><td>2024-02-07</td><td>1950.00</td></tr><tr><td>39</td><td>30</td><td>2024-02-08</td><td>2000.00</td></tr><tr><td>40</td><td>41</td><td>2024-02-09</td><td>2050.00</td></tr><tr><td>41</td><td>52</td><td>2024-02-10</td><td>2100.00</td></tr><tr><td>42</td><td>63</td><td>2024-02-11</td><td>2150.00</td></tr><tr><td>43</td><td>74</td><td>2024-02-12</td><td>2200.00</td></tr><tr><td>44</td><td>85</td><td>2024-02-13</td><td>2250.00</td></tr><tr><td>45</td><td>96</td><td>2024-02-14</td><td>2300.00</td></tr><tr><td>46</td><td>7</td><td>2024-02-15</td><td>2350.00</td></tr><tr><td>47</td><td>18</td><td>2024-02-16</td><td>2400.00</td></tr><tr><td>48</td><td>29</td><td>2024-02-17</td><td>2450.00</td></tr><tr><td>49</td><td>40</td><td>2024-02-18</td><td>2500.00</td></tr><tr><td>50</td><td>51</td><td>2024-02-19</td><td>2550.00</td></tr><tr><td>51</td><td>62</td><td>2024-02-20</td><td>2600.00</td></tr><tr><td>52</td><td>73</td><td>2024-02-21</td><td>2650.00</td></tr><tr><td>53</td><td>84</td><td>2024-02-22</td><td>2700.00</td></tr><tr><td>54</td><td>95</td><td>2024-02-23</td><td>2750.00</td></tr><tr><td>55</td><td>6</td><td>2024-02-24</td><td>2800.00</td></tr><tr><td>56</td><td>17</td><td>2024-02-25</td><td>2850.00</td></tr><tr><td>57</td><td>28</td><td>2024-02-26</td><td>2900.00</td></tr><tr><td>58</td><td>39</td><td>2024-02-27</td><td>2950.00</td></tr><tr><td>59</td><td>50</td><td>2024-02-28</td><td>3000.00</td></tr><tr><td>60</td><td>61</td><td>2024-02-29</td><td>3050.00</td></tr><tr><td>61</td><td>72</td><td>2024-03-01</td><td>3100.00</td></tr><tr><td>62</td><td>83</td><td>2024-03-02</td><td>3150.00</td></tr><tr><td>63</td><td>94</td><td>2024-03-03</td><td>3200.00</td></tr><tr><td>64</td><td>5</td><td>2024-03-04</td><td>3250.00</td></tr><tr><td>65</td><td>16</td><td>2024-03-05</td><td>3300.00</td></tr><tr><td>66</td><td>27</td><td>2024-03-06</td><td>3350.00</td></tr><tr><td>67</td><td>38</td><td>2024-03-07</td><td>3400.00</td></tr><tr><td>68</td><td>49</td><td>2024-03-08</td><td>3450.00</td></tr><tr><td>69</td><td>60</td><td>2024-03-09</td><td>3500.00</td></tr><tr><td>70</td><td>71</td><td>2024-03-10</td><td>3550.00</td></tr><tr><td>71</td><td>82</td><td>2024-03-11</td><td>3600.00</td></tr><tr><td>72</td><td>93</td><td>2024-03-12</td><td>3650.00</td></tr><tr><td>73</td><td>4</td><td>2024-03-13</td><td>3700.00</td></tr><tr><td>74</td><td>15</td><td>2024-03-14</td><td>3750.00</td></tr><tr><td>75</td><td>26</td><td>2024-03-15</td><td>3800.00</td></tr><tr><td>76</td><td>37</td><td>2024-03-16</td><td>3850.00</td></tr><tr><td>77</td><td>48</td><td>2024-03-17</td><td>3900.00</td></tr><tr><td>78</td><td>59</td><td>2024-03-18</td><td>3950.00</td></tr><tr><td>79</td><td>70</td><td>2024-03-19</td><td>4000.00</td></tr><tr><td>80</td><td>81</td><td>2024-03-20</td><td>4050.00</td></tr><tr><td>81</td><td>92</td><td>2024-03-21</td><td>4100.00</td></tr><tr><td>82</td><td>3</td><td>2024-03-22</td><td>4150.00</td></tr><tr><td>83</td><td>14</td><td>2024-03-23</td><td>4200.00</td></tr><tr><td>84</td><td>25</td><td>2024-03-24</td><td>4250.00</td></tr><tr><td>85</td><td>36</td><td>2024-03-25</td><td>4300.00</td></tr><tr><td>86</td><td>47</td><td>2024-03-26</td><td>4350.00</td></tr><tr><td>87</td><td>58</td><td>2024-03-27</td><td>4400.00</td></tr><tr><td>88</td><td>69</td><td>2024-03-28</td><td>4450.00</td></tr><tr><td>89</td><td>80</td><td>2024-03-29</td><td>4500.00</td></tr><tr><td>90</td><td>91</td><td>2024-03-30</td><td>4550.00</td></tr><tr><td>91</td><td>2</td><td>2024-03-31</td><td>4600.00</td></tr><tr><td>92</td><td>13</td><td>2024-04-01</td><td>4650.00</td></tr><tr><td>93</td><td>24</td><td>2024-04-02</td><td>4700.00</td></tr><tr><td>94</td><td>35</td><td>2024-04-03</td><td>4750.00</td></tr><tr><td>95</td><td>46</td><td>2024-04-04</td><td>4800.00</td></tr><tr><td>96</td><td>57</td><td>2024-04-05</td><td>4850.00</td></tr><tr><td>97</td><td>68</td><td>2024-04-06</td><td>4900.00</td></tr><tr><td>98</td><td>79</td><td>2024-04-07</td><td>4950.00</td></tr><tr><td>99</td><td>1</td><td>2024-04-08</td><td>5000.00</td></tr><tr><td>100</td><td>33</td><td>2024-04-10</td><td>1000.00</td></tr></tbody></table></div>"
      ]
     },
     "metadata": {
      "application/vnd.databricks.v1+output": {
       "addedWidgets": {},
       "aggData": [],
       "aggError": "",
       "aggOverflow": false,
       "aggSchema": [],
       "aggSeriesLimitReached": false,
       "aggType": "",
       "arguments": {},
       "columnCustomDisplayInfos": {},
       "data": [
        [
         "1",
         "45",
         "2024-01-01",
         "100.00"
        ],
        [
         "2",
         "23",
         "2024-01-02",
         "150.00"
        ],
        [
         "3",
         "67",
         "2024-01-03",
         "200.00"
        ],
        [
         "4",
         "89",
         "2024-01-04",
         "250.00"
        ],
        [
         "5",
         "12",
         "2024-01-05",
         "300.00"
        ],
        [
         "6",
         "34",
         "2024-01-06",
         "350.00"
        ],
        [
         "7",
         "56",
         "2024-01-07",
         "400.00"
        ],
        [
         "8",
         "78",
         "2024-01-08",
         "450.00"
        ],
        [
         "9",
         "90",
         "2024-01-09",
         "500.00"
        ],
        [
         "10",
         "11",
         "2024-01-10",
         "550.00"
        ],
        [
         "11",
         "22",
         "2024-01-11",
         "600.00"
        ],
        [
         "12",
         "33",
         "2024-01-12",
         "650.00"
        ],
        [
         "13",
         "44",
         "2024-01-13",
         "700.00"
        ],
        [
         "14",
         "55",
         "2024-01-14",
         "750.00"
        ],
        [
         "15",
         "66",
         "2024-01-15",
         "800.00"
        ],
        [
         "16",
         "77",
         "2024-01-16",
         "850.00"
        ],
        [
         "17",
         "88",
         "2024-01-17",
         "900.00"
        ],
        [
         "18",
         "99",
         "2024-01-18",
         "950.00"
        ],
        [
         "19",
         "10",
         "2024-01-19",
         "1000.00"
        ],
        [
         "20",
         "21",
         "2024-01-20",
         "1050.00"
        ],
        [
         "21",
         "32",
         "2024-01-21",
         "1100.00"
        ],
        [
         "22",
         "43",
         "2024-01-22",
         "1150.00"
        ],
        [
         "23",
         "54",
         "2024-01-23",
         "1200.00"
        ],
        [
         "24",
         "65",
         "2024-01-24",
         "1250.00"
        ],
        [
         "25",
         "76",
         "2024-01-25",
         "1300.00"
        ],
        [
         "26",
         "87",
         "2024-01-26",
         "1350.00"
        ],
        [
         "27",
         "98",
         "2024-01-27",
         "1400.00"
        ],
        [
         "28",
         "9",
         "2024-01-28",
         "1450.00"
        ],
        [
         "29",
         "20",
         "2024-01-29",
         "1500.00"
        ],
        [
         "30",
         "31",
         "2024-01-30",
         "1550.00"
        ],
        [
         "31",
         "42",
         "2024-01-31",
         "1600.00"
        ],
        [
         "32",
         "53",
         "2024-02-01",
         "1650.00"
        ],
        [
         "33",
         "64",
         "2024-02-02",
         "1700.00"
        ],
        [
         "34",
         "75",
         "2024-02-03",
         "1750.00"
        ],
        [
         "35",
         "86",
         "2024-02-04",
         "1800.00"
        ],
        [
         "36",
         "97",
         "2024-02-05",
         "1850.00"
        ],
        [
         "37",
         "8",
         "2024-02-06",
         "1900.00"
        ],
        [
         "38",
         "19",
         "2024-02-07",
         "1950.00"
        ],
        [
         "39",
         "30",
         "2024-02-08",
         "2000.00"
        ],
        [
         "40",
         "41",
         "2024-02-09",
         "2050.00"
        ],
        [
         "41",
         "52",
         "2024-02-10",
         "2100.00"
        ],
        [
         "42",
         "63",
         "2024-02-11",
         "2150.00"
        ],
        [
         "43",
         "74",
         "2024-02-12",
         "2200.00"
        ],
        [
         "44",
         "85",
         "2024-02-13",
         "2250.00"
        ],
        [
         "45",
         "96",
         "2024-02-14",
         "2300.00"
        ],
        [
         "46",
         "7",
         "2024-02-15",
         "2350.00"
        ],
        [
         "47",
         "18",
         "2024-02-16",
         "2400.00"
        ],
        [
         "48",
         "29",
         "2024-02-17",
         "2450.00"
        ],
        [
         "49",
         "40",
         "2024-02-18",
         "2500.00"
        ],
        [
         "50",
         "51",
         "2024-02-19",
         "2550.00"
        ],
        [
         "51",
         "62",
         "2024-02-20",
         "2600.00"
        ],
        [
         "52",
         "73",
         "2024-02-21",
         "2650.00"
        ],
        [
         "53",
         "84",
         "2024-02-22",
         "2700.00"
        ],
        [
         "54",
         "95",
         "2024-02-23",
         "2750.00"
        ],
        [
         "55",
         "6",
         "2024-02-24",
         "2800.00"
        ],
        [
         "56",
         "17",
         "2024-02-25",
         "2850.00"
        ],
        [
         "57",
         "28",
         "2024-02-26",
         "2900.00"
        ],
        [
         "58",
         "39",
         "2024-02-27",
         "2950.00"
        ],
        [
         "59",
         "50",
         "2024-02-28",
         "3000.00"
        ],
        [
         "60",
         "61",
         "2024-02-29",
         "3050.00"
        ],
        [
         "61",
         "72",
         "2024-03-01",
         "3100.00"
        ],
        [
         "62",
         "83",
         "2024-03-02",
         "3150.00"
        ],
        [
         "63",
         "94",
         "2024-03-03",
         "3200.00"
        ],
        [
         "64",
         "5",
         "2024-03-04",
         "3250.00"
        ],
        [
         "65",
         "16",
         "2024-03-05",
         "3300.00"
        ],
        [
         "66",
         "27",
         "2024-03-06",
         "3350.00"
        ],
        [
         "67",
         "38",
         "2024-03-07",
         "3400.00"
        ],
        [
         "68",
         "49",
         "2024-03-08",
         "3450.00"
        ],
        [
         "69",
         "60",
         "2024-03-09",
         "3500.00"
        ],
        [
         "70",
         "71",
         "2024-03-10",
         "3550.00"
        ],
        [
         "71",
         "82",
         "2024-03-11",
         "3600.00"
        ],
        [
         "72",
         "93",
         "2024-03-12",
         "3650.00"
        ],
        [
         "73",
         "4",
         "2024-03-13",
         "3700.00"
        ],
        [
         "74",
         "15",
         "2024-03-14",
         "3750.00"
        ],
        [
         "75",
         "26",
         "2024-03-15",
         "3800.00"
        ],
        [
         "76",
         "37",
         "2024-03-16",
         "3850.00"
        ],
        [
         "77",
         "48",
         "2024-03-17",
         "3900.00"
        ],
        [
         "78",
         "59",
         "2024-03-18",
         "3950.00"
        ],
        [
         "79",
         "70",
         "2024-03-19",
         "4000.00"
        ],
        [
         "80",
         "81",
         "2024-03-20",
         "4050.00"
        ],
        [
         "81",
         "92",
         "2024-03-21",
         "4100.00"
        ],
        [
         "82",
         "3",
         "2024-03-22",
         "4150.00"
        ],
        [
         "83",
         "14",
         "2024-03-23",
         "4200.00"
        ],
        [
         "84",
         "25",
         "2024-03-24",
         "4250.00"
        ],
        [
         "85",
         "36",
         "2024-03-25",
         "4300.00"
        ],
        [
         "86",
         "47",
         "2024-03-26",
         "4350.00"
        ],
        [
         "87",
         "58",
         "2024-03-27",
         "4400.00"
        ],
        [
         "88",
         "69",
         "2024-03-28",
         "4450.00"
        ],
        [
         "89",
         "80",
         "2024-03-29",
         "4500.00"
        ],
        [
         "90",
         "91",
         "2024-03-30",
         "4550.00"
        ],
        [
         "91",
         "2",
         "2024-03-31",
         "4600.00"
        ],
        [
         "92",
         "13",
         "2024-04-01",
         "4650.00"
        ],
        [
         "93",
         "24",
         "2024-04-02",
         "4700.00"
        ],
        [
         "94",
         "35",
         "2024-04-03",
         "4750.00"
        ],
        [
         "95",
         "46",
         "2024-04-04",
         "4800.00"
        ],
        [
         "96",
         "57",
         "2024-04-05",
         "4850.00"
        ],
        [
         "97",
         "68",
         "2024-04-06",
         "4900.00"
        ],
        [
         "98",
         "79",
         "2024-04-07",
         "4950.00"
        ],
        [
         "99",
         "1",
         "2024-04-08",
         "5000.00"
        ],
        [
         "100",
         "33",
         "2024-04-10",
         "1000.00"
        ]
       ],
       "datasetInfos": [],
       "dbfsResultPath": null,
       "isJsonSchema": true,
       "metadata": {},
       "overflow": false,
       "plotOptions": {
        "customPlotOptions": {},
        "displayType": "table",
        "pivotAggregation": null,
        "pivotColumns": null,
        "xColumns": null,
        "yColumns": null
       },
       "removedWidgets": [],
       "schema": [
        {
         "metadata": "{}",
         "name": "payment_id",
         "type": "\"string\""
        },
        {
         "metadata": "{}",
         "name": "loan_id",
         "type": "\"string\""
        },
        {
         "metadata": "{}",
         "name": "payment_date",
         "type": "\"string\""
        },
        {
         "metadata": "{}",
         "name": "payment_amount",
         "type": "\"string\""
        }
       ],
       "type": "table"
      }
     },
     "output_type": "display_data"
    }
   ],
   "source": [
    "\n",
    "df_lp = spark.read \\\n",
    "    .option(\"header\", \"true\") \\\n",
    "    .option(\"delimiter\", \",\") \\\n",
    "    .csv(\"abfss://raw@storageforcustomers.dfs.core.windows.net/loan_payments.csv\")\n",
    "display(df_lp)"
   ]
  },
  {
   "cell_type": "code",
   "execution_count": 0,
   "metadata": {
    "application/vnd.databricks.v1+cell": {
     "cellMetadata": {
      "byteLimit": 2048000,
      "rowLimit": 10000
     },
     "inputWidgets": {},
     "nuid": "6c51a26c-5838-46fe-8028-cb68321f4ac4",
     "showTitle": false,
     "tableResultSettingsMap": {},
     "title": ""
    }
   },
   "outputs": [
    {
     "output_type": "stream",
     "name": "stdout",
     "output_type": "stream",
     "text": [
      "+----------+-------+------------+--------------+\n|payment_id|loan_id|payment_date|payment_amount|\n+----------+-------+------------+--------------+\n|         1|     45|  2024-01-01|         100.0|\n|         2|     23|  2024-01-02|         150.0|\n|         3|     67|  2024-01-03|         200.0|\n|         4|     89|  2024-01-04|         250.0|\n|         5|     12|  2024-01-05|         300.0|\n|         6|     34|  2024-01-06|         350.0|\n|         7|     56|  2024-01-07|         400.0|\n|         8|     78|  2024-01-08|         450.0|\n|         9|     90|  2024-01-09|         500.0|\n|        10|     11|  2024-01-10|         550.0|\n|        11|     22|  2024-01-11|         600.0|\n|        12|     33|  2024-01-12|         650.0|\n|        13|     44|  2024-01-13|         700.0|\n|        14|     55|  2024-01-14|         750.0|\n|        15|     66|  2024-01-15|         800.0|\n|        16|     77|  2024-01-16|         850.0|\n|        17|     88|  2024-01-17|         900.0|\n|        18|     99|  2024-01-18|         950.0|\n|        19|     10|  2024-01-19|        1000.0|\n|        20|     21|  2024-01-20|        1050.0|\n+----------+-------+------------+--------------+\nonly showing top 20 rows\n\n"
     ]
    }
   ],
   "source": [
    "\n",
    "from pyspark.sql.types import DateType\n",
    "df_lp = df_lp \\\n",
    "    .withColumn(\"payment_id\", col(\"payment_id\").cast(IntegerType())) \\\n",
    "    .withColumn(\"loan_id\", col(\"loan_id\").cast(IntegerType())) \\\n",
    "    .withColumn(\"payment_date\", col(\"payment_date\").cast(DateType())) \\\n",
    "    .withColumn(\"payment_amount\", col(\"payment_amount\").cast(DoubleType()))\n",
    "\n",
    "df_lp.show()\n"
   ]
  },
  {
   "cell_type": "code",
   "execution_count": 0,
   "metadata": {
    "application/vnd.databricks.v1+cell": {
     "cellMetadata": {
      "byteLimit": 2048000,
      "rowLimit": 10000
     },
     "inputWidgets": {},
     "nuid": "4358ce8c-6ce7-488f-b88f-4da8e9551cf5",
     "showTitle": false,
     "tableResultSettingsMap": {},
     "title": ""
    }
   },
   "outputs": [],
   "source": [
    "df_lp.write.format(\"delta\").mode(\"overwrite\").save(\"abfss://raw@storageforcustomers.dfs.core.windows.net/cleaned_data/loan_payments.csv\")\n"
   ]
  },
  {
   "cell_type": "code",
   "execution_count": 0,
   "metadata": {
    "application/vnd.databricks.v1+cell": {
     "cellMetadata": {
      "byteLimit": 2048000,
      "rowLimit": 10000
     },
     "inputWidgets": {},
     "nuid": "c9b25b6a-2711-46ca-bb2d-771689d1206d",
     "showTitle": false,
     "tableResultSettingsMap": {},
     "title": ""
    }
   },
   "outputs": [
    {
     "output_type": "display_data",
     "data": {
      "text/html": [
       "<style scoped>\n",
       "  .table-result-container {\n",
       "    max-height: 300px;\n",
       "    overflow: auto;\n",
       "  }\n",
       "  table, th, td {\n",
       "    border: 1px solid black;\n",
       "    border-collapse: collapse;\n",
       "  }\n",
       "  th, td {\n",
       "    padding: 5px;\n",
       "  }\n",
       "  th {\n",
       "    text-align: left;\n",
       "  }\n",
       "</style><div class='table-result-container'><table class='table-result'><thead style='background-color: white'><tr><th>loan_id</th><th>customer_id</th><th>loan_amount</th><th>interest_rate</th><th>loan_term</th></tr></thead><tbody><tr><td>1</td><td>45</td><td>10000.50</td><td>5.5</td><td>36</td></tr><tr><td>2</td><td>12</td><td>20000.75</td><td>4.5</td><td>48</td></tr><tr><td>3</td><td>78</td><td>15000.00</td><td>6.0</td><td>60</td></tr><tr><td>4</td><td>34</td><td>30000.25</td><td>3.5</td><td>24</td></tr><tr><td>5</td><td>56</td><td>25000.00</td><td>5.0</td><td>36</td></tr><tr><td>6</td><td>23</td><td>17500.50</td><td>4.0</td><td>48</td></tr><tr><td>7</td><td>89</td><td>22500.75</td><td>6.5</td><td>60</td></tr><tr><td>8</td><td>67</td><td>27500.00</td><td>3.0</td><td>24</td></tr><tr><td>9</td><td>14</td><td>32500.25</td><td>5.5</td><td>36</td></tr><tr><td>10</td><td>92</td><td>37500.50</td><td>4.5</td><td>48</td></tr><tr><td>11</td><td>3</td><td>10000.75</td><td>6.0</td><td>60</td></tr><tr><td>12</td><td>81</td><td>20000.00</td><td>3.5</td><td>24</td></tr><tr><td>13</td><td>29</td><td>15000.25</td><td>5.0</td><td>36</td></tr><tr><td>14</td><td>64</td><td>30000.50</td><td>4.0</td><td>48</td></tr><tr><td>15</td><td>47</td><td>25000.75</td><td>6.5</td><td>60</td></tr><tr><td>16</td><td>18</td><td>17500.00</td><td>3.0</td><td>24</td></tr><tr><td>17</td><td>99</td><td>22500.25</td><td>5.5</td><td>36</td></tr><tr><td>18</td><td>5</td><td>27500.50</td><td>4.5</td><td>48</td></tr><tr><td>19</td><td>76</td><td>32500.75</td><td>6.0</td><td>60</td></tr><tr><td>20</td><td>21</td><td>37500.00</td><td>3.5</td><td>24</td></tr><tr><td>21</td><td>53</td><td>10000.25</td><td>5.0</td><td>36</td></tr><tr><td>22</td><td>37</td><td>20000.50</td><td>4.0</td><td>48</td></tr><tr><td>23</td><td>88</td><td>15000.75</td><td>6.5</td><td>60</td></tr><tr><td>24</td><td>11</td><td>30000.00</td><td>3.0</td><td>24</td></tr><tr><td>25</td><td>66</td><td>25000.25</td><td>5.5</td><td>36</td></tr><tr><td>26</td><td>25</td><td>17500.50</td><td>4.5</td><td>48</td></tr><tr><td>27</td><td>94</td><td>22500.75</td><td>6.0</td><td>60</td></tr><tr><td>28</td><td>7</td><td>27500.00</td><td>3.5</td><td>24</td></tr><tr><td>29</td><td>58</td><td>32500.25</td><td>5.0</td><td>36</td></tr><tr><td>30</td><td>32</td><td>37500.50</td><td>4.0</td><td>48</td></tr><tr><td>31</td><td>71</td><td>10000.75</td><td>6.5</td><td>60</td></tr><tr><td>32</td><td>9</td><td>20000.00</td><td>3.0</td><td>24</td></tr><tr><td>33</td><td>85</td><td>15000.25</td><td>5.5</td><td>36</td></tr><tr><td>34</td><td>41</td><td>30000.50</td><td>4.5</td><td>48</td></tr><tr><td>35</td><td>62</td><td>25000.75</td><td>6.0</td><td>60</td></tr><tr><td>36</td><td>27</td><td>17500.00</td><td>3.5</td><td>24</td></tr><tr><td>37</td><td>98</td><td>22500.25</td><td>5.0</td><td>36</td></tr><tr><td>38</td><td>15</td><td>27500.50</td><td>4.0</td><td>48</td></tr><tr><td>39</td><td>74</td><td>32500.75</td><td>6.5</td><td>60</td></tr><tr><td>40</td><td>19</td><td>37500.00</td><td>3.0</td><td>24</td></tr><tr><td>41</td><td>51</td><td>10000.25</td><td>5.5</td><td>36</td></tr><tr><td>42</td><td>36</td><td>20000.50</td><td>4.5</td><td>48</td></tr><tr><td>43</td><td>83</td><td>15000.75</td><td>6.0</td><td>60</td></tr><tr><td>44</td><td>13</td><td>30000.00</td><td>3.5</td><td>24</td></tr><tr><td>45</td><td>68</td><td>25000.25</td><td>5.0</td><td>36</td></tr><tr><td>46</td><td>24</td><td>17500.50</td><td>4.0</td><td>48</td></tr><tr><td>47</td><td>95</td><td>22500.75</td><td>6.5</td><td>60</td></tr><tr><td>48</td><td>6</td><td>27500.00</td><td>3.0</td><td>24</td></tr><tr><td>49</td><td>57</td><td>32500.25</td><td>5.5</td><td>36</td></tr><tr><td>50</td><td>31</td><td>37500.50</td><td>4.5</td><td>48</td></tr><tr><td>51</td><td>72</td><td>10000.75</td><td>6.0</td><td>60</td></tr><tr><td>52</td><td>10</td><td>20000.00</td><td>3.5</td><td>24</td></tr><tr><td>53</td><td>86</td><td>15000.25</td><td>5.0</td><td>36</td></tr><tr><td>54</td><td>42</td><td>30000.50</td><td>4.0</td><td>48</td></tr><tr><td>55</td><td>63</td><td>25000.75</td><td>6.5</td><td>60</td></tr><tr><td>56</td><td>28</td><td>17500.00</td><td>3.0</td><td>24</td></tr><tr><td>57</td><td>97</td><td>22500.25</td><td>5.5</td><td>36</td></tr><tr><td>58</td><td>16</td><td>27500.50</td><td>4.5</td><td>48</td></tr><tr><td>59</td><td>75</td><td>32500.75</td><td>6.0</td><td>60</td></tr><tr><td>60</td><td>20</td><td>37500.00</td><td>3.5</td><td>24</td></tr><tr><td>61</td><td>52</td><td>10000.25</td><td>5.0</td><td>36</td></tr><tr><td>62</td><td>35</td><td>20000.50</td><td>4.0</td><td>48</td></tr><tr><td>63</td><td>84</td><td>15000.75</td><td>6.5</td><td>60</td></tr><tr><td>64</td><td>12</td><td>30000.00</td><td>3.0</td><td>24</td></tr><tr><td>65</td><td>69</td><td>25000.25</td><td>5.5</td><td>36</td></tr><tr><td>66</td><td>26</td><td>17500.50</td><td>4.5</td><td>48</td></tr><tr><td>67</td><td>96</td><td>22500.75</td><td>6.0</td><td>60</td></tr><tr><td>68</td><td>8</td><td>27500.00</td><td>3.5</td><td>24</td></tr><tr><td>69</td><td>59</td><td>32500.25</td><td>5.0</td><td>36</td></tr><tr><td>70</td><td>33</td><td>37500.50</td><td>4.0</td><td>48</td></tr><tr><td>71</td><td>73</td><td>10000.75</td><td>6.5</td><td>60</td></tr><tr><td>72</td><td>17</td><td>20000.00</td><td>3.0</td><td>24</td></tr><tr><td>73</td><td>87</td><td>15000.25</td><td>5.5</td><td>36</td></tr><tr><td>74</td><td>43</td><td>30000.50</td><td>4.5</td><td>48</td></tr><tr><td>75</td><td>61</td><td>25000.75</td><td>6.0</td><td>60</td></tr><tr><td>76</td><td>22</td><td>17500.00</td><td>3.5</td><td>24</td></tr><tr><td>77</td><td>91</td><td>22500.25</td><td>5.0</td><td>36</td></tr><tr><td>78</td><td>4</td><td>27500.50</td><td>4.0</td><td>48</td></tr><tr><td>79</td><td>55</td><td>32500.75</td><td>6.5</td><td>60</td></tr><tr><td>80</td><td>30</td><td>37500.00</td><td>3.0</td><td>24</td></tr><tr><td>81</td><td>70</td><td>10000.25</td><td>5.5</td><td>36</td></tr><tr><td>82</td><td>2</td><td>20000.50</td><td>4.5</td><td>48</td></tr><tr><td>83</td><td>82</td><td>15000.75</td><td>6.0</td><td>60</td></tr><tr><td>84</td><td>40</td><td>30000.00</td><td>3.5</td><td>24</td></tr><tr><td>85</td><td>65</td><td>25000.25</td><td>5.0</td><td>36</td></tr><tr><td>86</td><td>21</td><td>17500.50</td><td>4.0</td><td>48</td></tr><tr><td>87</td><td>93</td><td>22500.75</td><td>6.5</td><td>60</td></tr><tr><td>88</td><td>1</td><td>27500.00</td><td>3.0</td><td>24</td></tr><tr><td>89</td><td>54</td><td>32500.25</td><td>5.5</td><td>36</td></tr><tr><td>90</td><td>38</td><td>37500.50</td><td>4.5</td><td>48</td></tr><tr><td>91</td><td>77</td><td>10000.75</td><td>6.0</td><td>60</td></tr><tr><td>92</td><td>44</td><td>20000.00</td><td>3.5</td><td>24</td></tr><tr><td>93</td><td>79</td><td>15000.25</td><td>5.0</td><td>36</td></tr><tr><td>94</td><td>39</td><td>30000.50</td><td>4.0</td><td>48</td></tr><tr><td>95</td><td>60</td><td>25000.75</td><td>6.5</td><td>60</td></tr><tr><td>96</td><td>48</td><td>17500.00</td><td>3.0</td><td>24</td></tr><tr><td>97</td><td>90</td><td>22500.25</td><td>5.5</td><td>36</td></tr><tr><td>98</td><td>49</td><td>27500.50</td><td>4.5</td><td>48</td></tr><tr><td>99</td><td>80</td><td>32500.75</td><td>6.0</td><td>60</td></tr><tr><td>100</td><td>50</td><td>37500.00</td><td>3.5</td><td>24</td></tr></tbody></table></div>"
      ]
     },
     "metadata": {
      "application/vnd.databricks.v1+output": {
       "addedWidgets": {},
       "aggData": [],
       "aggError": "",
       "aggOverflow": false,
       "aggSchema": [],
       "aggSeriesLimitReached": false,
       "aggType": "",
       "arguments": {},
       "columnCustomDisplayInfos": {},
       "data": [
        [
         "1",
         "45",
         "10000.50",
         "5.5",
         "36"
        ],
        [
         "2",
         "12",
         "20000.75",
         "4.5",
         "48"
        ],
        [
         "3",
         "78",
         "15000.00",
         "6.0",
         "60"
        ],
        [
         "4",
         "34",
         "30000.25",
         "3.5",
         "24"
        ],
        [
         "5",
         "56",
         "25000.00",
         "5.0",
         "36"
        ],
        [
         "6",
         "23",
         "17500.50",
         "4.0",
         "48"
        ],
        [
         "7",
         "89",
         "22500.75",
         "6.5",
         "60"
        ],
        [
         "8",
         "67",
         "27500.00",
         "3.0",
         "24"
        ],
        [
         "9",
         "14",
         "32500.25",
         "5.5",
         "36"
        ],
        [
         "10",
         "92",
         "37500.50",
         "4.5",
         "48"
        ],
        [
         "11",
         "3",
         "10000.75",
         "6.0",
         "60"
        ],
        [
         "12",
         "81",
         "20000.00",
         "3.5",
         "24"
        ],
        [
         "13",
         "29",
         "15000.25",
         "5.0",
         "36"
        ],
        [
         "14",
         "64",
         "30000.50",
         "4.0",
         "48"
        ],
        [
         "15",
         "47",
         "25000.75",
         "6.5",
         "60"
        ],
        [
         "16",
         "18",
         "17500.00",
         "3.0",
         "24"
        ],
        [
         "17",
         "99",
         "22500.25",
         "5.5",
         "36"
        ],
        [
         "18",
         "5",
         "27500.50",
         "4.5",
         "48"
        ],
        [
         "19",
         "76",
         "32500.75",
         "6.0",
         "60"
        ],
        [
         "20",
         "21",
         "37500.00",
         "3.5",
         "24"
        ],
        [
         "21",
         "53",
         "10000.25",
         "5.0",
         "36"
        ],
        [
         "22",
         "37",
         "20000.50",
         "4.0",
         "48"
        ],
        [
         "23",
         "88",
         "15000.75",
         "6.5",
         "60"
        ],
        [
         "24",
         "11",
         "30000.00",
         "3.0",
         "24"
        ],
        [
         "25",
         "66",
         "25000.25",
         "5.5",
         "36"
        ],
        [
         "26",
         "25",
         "17500.50",
         "4.5",
         "48"
        ],
        [
         "27",
         "94",
         "22500.75",
         "6.0",
         "60"
        ],
        [
         "28",
         "7",
         "27500.00",
         "3.5",
         "24"
        ],
        [
         "29",
         "58",
         "32500.25",
         "5.0",
         "36"
        ],
        [
         "30",
         "32",
         "37500.50",
         "4.0",
         "48"
        ],
        [
         "31",
         "71",
         "10000.75",
         "6.5",
         "60"
        ],
        [
         "32",
         "9",
         "20000.00",
         "3.0",
         "24"
        ],
        [
         "33",
         "85",
         "15000.25",
         "5.5",
         "36"
        ],
        [
         "34",
         "41",
         "30000.50",
         "4.5",
         "48"
        ],
        [
         "35",
         "62",
         "25000.75",
         "6.0",
         "60"
        ],
        [
         "36",
         "27",
         "17500.00",
         "3.5",
         "24"
        ],
        [
         "37",
         "98",
         "22500.25",
         "5.0",
         "36"
        ],
        [
         "38",
         "15",
         "27500.50",
         "4.0",
         "48"
        ],
        [
         "39",
         "74",
         "32500.75",
         "6.5",
         "60"
        ],
        [
         "40",
         "19",
         "37500.00",
         "3.0",
         "24"
        ],
        [
         "41",
         "51",
         "10000.25",
         "5.5",
         "36"
        ],
        [
         "42",
         "36",
         "20000.50",
         "4.5",
         "48"
        ],
        [
         "43",
         "83",
         "15000.75",
         "6.0",
         "60"
        ],
        [
         "44",
         "13",
         "30000.00",
         "3.5",
         "24"
        ],
        [
         "45",
         "68",
         "25000.25",
         "5.0",
         "36"
        ],
        [
         "46",
         "24",
         "17500.50",
         "4.0",
         "48"
        ],
        [
         "47",
         "95",
         "22500.75",
         "6.5",
         "60"
        ],
        [
         "48",
         "6",
         "27500.00",
         "3.0",
         "24"
        ],
        [
         "49",
         "57",
         "32500.25",
         "5.5",
         "36"
        ],
        [
         "50",
         "31",
         "37500.50",
         "4.5",
         "48"
        ],
        [
         "51",
         "72",
         "10000.75",
         "6.0",
         "60"
        ],
        [
         "52",
         "10",
         "20000.00",
         "3.5",
         "24"
        ],
        [
         "53",
         "86",
         "15000.25",
         "5.0",
         "36"
        ],
        [
         "54",
         "42",
         "30000.50",
         "4.0",
         "48"
        ],
        [
         "55",
         "63",
         "25000.75",
         "6.5",
         "60"
        ],
        [
         "56",
         "28",
         "17500.00",
         "3.0",
         "24"
        ],
        [
         "57",
         "97",
         "22500.25",
         "5.5",
         "36"
        ],
        [
         "58",
         "16",
         "27500.50",
         "4.5",
         "48"
        ],
        [
         "59",
         "75",
         "32500.75",
         "6.0",
         "60"
        ],
        [
         "60",
         "20",
         "37500.00",
         "3.5",
         "24"
        ],
        [
         "61",
         "52",
         "10000.25",
         "5.0",
         "36"
        ],
        [
         "62",
         "35",
         "20000.50",
         "4.0",
         "48"
        ],
        [
         "63",
         "84",
         "15000.75",
         "6.5",
         "60"
        ],
        [
         "64",
         "12",
         "30000.00",
         "3.0",
         "24"
        ],
        [
         "65",
         "69",
         "25000.25",
         "5.5",
         "36"
        ],
        [
         "66",
         "26",
         "17500.50",
         "4.5",
         "48"
        ],
        [
         "67",
         "96",
         "22500.75",
         "6.0",
         "60"
        ],
        [
         "68",
         "8",
         "27500.00",
         "3.5",
         "24"
        ],
        [
         "69",
         "59",
         "32500.25",
         "5.0",
         "36"
        ],
        [
         "70",
         "33",
         "37500.50",
         "4.0",
         "48"
        ],
        [
         "71",
         "73",
         "10000.75",
         "6.5",
         "60"
        ],
        [
         "72",
         "17",
         "20000.00",
         "3.0",
         "24"
        ],
        [
         "73",
         "87",
         "15000.25",
         "5.5",
         "36"
        ],
        [
         "74",
         "43",
         "30000.50",
         "4.5",
         "48"
        ],
        [
         "75",
         "61",
         "25000.75",
         "6.0",
         "60"
        ],
        [
         "76",
         "22",
         "17500.00",
         "3.5",
         "24"
        ],
        [
         "77",
         "91",
         "22500.25",
         "5.0",
         "36"
        ],
        [
         "78",
         "4",
         "27500.50",
         "4.0",
         "48"
        ],
        [
         "79",
         "55",
         "32500.75",
         "6.5",
         "60"
        ],
        [
         "80",
         "30",
         "37500.00",
         "3.0",
         "24"
        ],
        [
         "81",
         "70",
         "10000.25",
         "5.5",
         "36"
        ],
        [
         "82",
         "2",
         "20000.50",
         "4.5",
         "48"
        ],
        [
         "83",
         "82",
         "15000.75",
         "6.0",
         "60"
        ],
        [
         "84",
         "40",
         "30000.00",
         "3.5",
         "24"
        ],
        [
         "85",
         "65",
         "25000.25",
         "5.0",
         "36"
        ],
        [
         "86",
         "21",
         "17500.50",
         "4.0",
         "48"
        ],
        [
         "87",
         "93",
         "22500.75",
         "6.5",
         "60"
        ],
        [
         "88",
         "1",
         "27500.00",
         "3.0",
         "24"
        ],
        [
         "89",
         "54",
         "32500.25",
         "5.5",
         "36"
        ],
        [
         "90",
         "38",
         "37500.50",
         "4.5",
         "48"
        ],
        [
         "91",
         "77",
         "10000.75",
         "6.0",
         "60"
        ],
        [
         "92",
         "44",
         "20000.00",
         "3.5",
         "24"
        ],
        [
         "93",
         "79",
         "15000.25",
         "5.0",
         "36"
        ],
        [
         "94",
         "39",
         "30000.50",
         "4.0",
         "48"
        ],
        [
         "95",
         "60",
         "25000.75",
         "6.5",
         "60"
        ],
        [
         "96",
         "48",
         "17500.00",
         "3.0",
         "24"
        ],
        [
         "97",
         "90",
         "22500.25",
         "5.5",
         "36"
        ],
        [
         "98",
         "49",
         "27500.50",
         "4.5",
         "48"
        ],
        [
         "99",
         "80",
         "32500.75",
         "6.0",
         "60"
        ],
        [
         "100",
         "50",
         "37500.00",
         "3.5",
         "24"
        ]
       ],
       "datasetInfos": [],
       "dbfsResultPath": null,
       "isJsonSchema": true,
       "metadata": {},
       "overflow": false,
       "plotOptions": {
        "customPlotOptions": {},
        "displayType": "table",
        "pivotAggregation": null,
        "pivotColumns": null,
        "xColumns": null,
        "yColumns": null
       },
       "removedWidgets": [],
       "schema": [
        {
         "metadata": "{}",
         "name": "loan_id",
         "type": "\"string\""
        },
        {
         "metadata": "{}",
         "name": "customer_id",
         "type": "\"string\""
        },
        {
         "metadata": "{}",
         "name": "loan_amount",
         "type": "\"string\""
        },
        {
         "metadata": "{}",
         "name": "interest_rate",
         "type": "\"string\""
        },
        {
         "metadata": "{}",
         "name": "loan_term",
         "type": "\"string\""
        }
       ],
       "type": "table"
      }
     },
     "output_type": "display_data"
    }
   ],
   "source": [
    "df_l = spark.read \\\n",
    "    .option(\"header\", \"true\") \\\n",
    "    .option(\"delimiter\", \",\") \\\n",
    "    .csv(\"abfss://raw@storageforcustomers.dfs.core.windows.net/loans.csv\")\n",
    "display(df_l)"
   ]
  },
  {
   "cell_type": "code",
   "execution_count": 0,
   "metadata": {
    "application/vnd.databricks.v1+cell": {
     "cellMetadata": {
      "byteLimit": 2048000,
      "rowLimit": 10000
     },
     "inputWidgets": {},
     "nuid": "e6d981a7-f749-4687-9024-df74bfaa43f9",
     "showTitle": false,
     "tableResultSettingsMap": {},
     "title": ""
    }
   },
   "outputs": [
    {
     "output_type": "stream",
     "name": "stdout",
     "output_type": "stream",
     "text": [
      "+-------+-----------+-----------+-------------+---------+\n|loan_id|customer_id|loan_amount|interest_rate|loan_term|\n+-------+-----------+-----------+-------------+---------+\n|      1|         45|    10000.5|          5.5|       36|\n|      2|         12|   20000.75|          4.5|       48|\n|      3|         78|    15000.0|          6.0|       60|\n|      4|         34|   30000.25|          3.5|       24|\n|      5|         56|    25000.0|          5.0|       36|\n|      6|         23|    17500.5|          4.0|       48|\n|      7|         89|   22500.75|          6.5|       60|\n|      8|         67|    27500.0|          3.0|       24|\n|      9|         14|   32500.25|          5.5|       36|\n|     10|         92|    37500.5|          4.5|       48|\n|     11|          3|   10000.75|          6.0|       60|\n|     12|         81|    20000.0|          3.5|       24|\n|     13|         29|   15000.25|          5.0|       36|\n|     14|         64|    30000.5|          4.0|       48|\n|     15|         47|   25000.75|          6.5|       60|\n|     16|         18|    17500.0|          3.0|       24|\n|     17|         99|   22500.25|          5.5|       36|\n|     18|          5|    27500.5|          4.5|       48|\n|     19|         76|   32500.75|          6.0|       60|\n|     20|         21|    37500.0|          3.5|       24|\n+-------+-----------+-----------+-------------+---------+\nonly showing top 20 rows\n\n"
     ]
    }
   ],
   "source": [
    "df_l = df_l \\\n",
    "    .withColumn(\"loan_id\", col(\"loan_id\").cast(IntegerType())) \\\n",
    "    .withColumn(\"customer_id\", col(\"customer_id\").cast(IntegerType())) \\\n",
    "    .withColumn(\"loan_amount\", col(\"loan_amount\").cast(DoubleType())) \\\n",
    "    .withColumn(\"loan_term\", col(\"loan_term\").cast(IntegerType())) \\\n",
    "    .withColumn(\"interest_rate\", col(\"interest_rate\").cast(DoubleType()))\n",
    "\n",
    "df_l.show()\n"
   ]
  },
  {
   "cell_type": "code",
   "execution_count": 0,
   "metadata": {
    "application/vnd.databricks.v1+cell": {
     "cellMetadata": {
      "byteLimit": 2048000,
      "rowLimit": 10000
     },
     "inputWidgets": {},
     "nuid": "196c047b-6509-4b08-90d5-ad28f4e8bd5c",
     "showTitle": false,
     "tableResultSettingsMap": {},
     "title": ""
    }
   },
   "outputs": [],
   "source": [
    "df_lp.write.format(\"delta\").mode(\"overwrite\").save(\"abfss://raw@storageforcustomers.dfs.core.windows.net/cleaned_data/loans.csv\")\n"
   ]
  },
  {
   "cell_type": "code",
   "execution_count": 0,
   "metadata": {
    "application/vnd.databricks.v1+cell": {
     "cellMetadata": {
      "byteLimit": 2048000,
      "rowLimit": 10000
     },
     "inputWidgets": {},
     "nuid": "e1d14883-bcb7-4023-a827-a1e4b6801e99",
     "showTitle": false,
     "tableResultSettingsMap": {},
     "title": ""
    }
   },
   "outputs": [
    {
     "output_type": "display_data",
     "data": {
      "text/html": [
       "<style scoped>\n",
       "  .table-result-container {\n",
       "    max-height: 300px;\n",
       "    overflow: auto;\n",
       "  }\n",
       "  table, th, td {\n",
       "    border: 1px solid black;\n",
       "    border-collapse: collapse;\n",
       "  }\n",
       "  th, td {\n",
       "    padding: 5px;\n",
       "  }\n",
       "  th {\n",
       "    text-align: left;\n",
       "  }\n",
       "</style><div class='table-result-container'><table class='table-result'><thead style='background-color: white'><tr><th>transaction_id</th><th>account_id</th><th>transaction_date</th><th>transaction_amount</th><th>transaction_type</th></tr></thead><tbody><tr><td>1</td><td>45</td><td>2024-01-01</td><td>100.50</td><td>Deposit</td></tr><tr><td>2</td><td>12</td><td>2024-01-02</td><td>200.75</td><td>Withdrawal</td></tr><tr><td>3</td><td>78</td><td>2024-01-03</td><td>150.00</td><td>Deposit</td></tr><tr><td>4</td><td>34</td><td>2024-01-04</td><td>300.25</td><td>Withdrawal</td></tr><tr><td>5</td><td>56</td><td>2024-01-05</td><td>250.00</td><td>Deposit</td></tr><tr><td>6</td><td>23</td><td>2024-01-06</td><td>175.00</td><td>Withdrawal</td></tr><tr><td>7</td><td>89</td><td>2024-01-07</td><td>225.50</td><td>Deposit</td></tr><tr><td>8</td><td>67</td><td>2024-01-08</td><td>275.75</td><td>Withdrawal</td></tr><tr><td>9</td><td>14</td><td>2024-01-09</td><td>325.00</td><td>Deposit</td></tr><tr><td>10</td><td>92</td><td>2024-01-10</td><td>375.25</td><td>Withdrawal</td></tr><tr><td>11</td><td>3</td><td>2024-01-11</td><td>100.50</td><td>Deposit</td></tr><tr><td>12</td><td>81</td><td>2024-01-12</td><td>200.75</td><td>Withdrawal</td></tr><tr><td>13</td><td>29</td><td>2024-01-13</td><td>150.00</td><td>Deposit</td></tr><tr><td>14</td><td>64</td><td>2024-01-14</td><td>300.25</td><td>Withdrawal</td></tr><tr><td>15</td><td>47</td><td>2024-01-15</td><td>250.00</td><td>Deposit</td></tr><tr><td>16</td><td>18</td><td>2024-01-16</td><td>175.00</td><td>Withdrawal</td></tr><tr><td>17</td><td>99</td><td>2024-01-17</td><td>225.50</td><td>Deposit</td></tr><tr><td>18</td><td>5</td><td>2024-01-18</td><td>275.75</td><td>Withdrawal</td></tr><tr><td>19</td><td>76</td><td>2024-01-19</td><td>325.00</td><td>Deposit</td></tr><tr><td>20</td><td>21</td><td>2024-01-20</td><td>375.25</td><td>Withdrawal</td></tr><tr><td>21</td><td>53</td><td>2024-01-21</td><td>100.50</td><td>Deposit</td></tr><tr><td>22</td><td>37</td><td>2024-01-22</td><td>200.75</td><td>Withdrawal</td></tr><tr><td>23</td><td>88</td><td>2024-01-23</td><td>150.00</td><td>Deposit</td></tr><tr><td>24</td><td>11</td><td>2024-01-24</td><td>300.25</td><td>Withdrawal</td></tr><tr><td>25</td><td>66</td><td>2024-01-25</td><td>250.00</td><td>Deposit</td></tr><tr><td>26</td><td>25</td><td>2024-01-26</td><td>175.00</td><td>Withdrawal</td></tr><tr><td>27</td><td>94</td><td>2024-01-27</td><td>225.50</td><td>Deposit</td></tr><tr><td>28</td><td>7</td><td>2024-01-28</td><td>275.75</td><td>Withdrawal</td></tr><tr><td>29</td><td>58</td><td>2024-01-29</td><td>325.00</td><td>Deposit</td></tr><tr><td>30</td><td>32</td><td>2024-01-30</td><td>375.25</td><td>Withdrawal</td></tr><tr><td>31</td><td>71</td><td>2024-01-31</td><td>100.50</td><td>Deposit</td></tr><tr><td>32</td><td>9</td><td>2024-02-01</td><td>200.75</td><td>Withdrawal</td></tr><tr><td>33</td><td>85</td><td>2024-02-02</td><td>150.00</td><td>Deposit</td></tr><tr><td>34</td><td>41</td><td>2024-02-03</td><td>300.25</td><td>Withdrawal</td></tr><tr><td>35</td><td>62</td><td>2024-02-04</td><td>250.00</td><td>Deposit</td></tr><tr><td>36</td><td>27</td><td>2024-02-05</td><td>175.00</td><td>Withdrawal</td></tr><tr><td>37</td><td>98</td><td>2024-02-06</td><td>225.50</td><td>Deposit</td></tr><tr><td>38</td><td>15</td><td>2024-02-07</td><td>275.75</td><td>Withdrawal</td></tr><tr><td>39</td><td>74</td><td>2024-02-08</td><td>325.00</td><td>Deposit</td></tr><tr><td>40</td><td>19</td><td>2024-02-09</td><td>375.25</td><td>Withdrawal</td></tr><tr><td>41</td><td>51</td><td>2024-02-10</td><td>100.50</td><td>Deposit</td></tr><tr><td>42</td><td>36</td><td>2024-02-11</td><td>200.75</td><td>Withdrawal</td></tr><tr><td>43</td><td>83</td><td>2024-02-12</td><td>150.00</td><td>Deposit</td></tr><tr><td>44</td><td>13</td><td>2024-02-13</td><td>300.25</td><td>Withdrawal</td></tr><tr><td>45</td><td>68</td><td>2024-02-14</td><td>250.00</td><td>Deposit</td></tr><tr><td>46</td><td>24</td><td>2024-02-15</td><td>175.00</td><td>Withdrawal</td></tr><tr><td>47</td><td>95</td><td>2024-02-16</td><td>225.50</td><td>Deposit</td></tr><tr><td>48</td><td>6</td><td>2024-02-17</td><td>275.75</td><td>Withdrawal</td></tr><tr><td>49</td><td>57</td><td>2024-02-18</td><td>325.00</td><td>Deposit</td></tr><tr><td>50</td><td>31</td><td>2024-02-19</td><td>375.25</td><td>Withdrawal</td></tr><tr><td>51</td><td>72</td><td>2024-02-20</td><td>100.50</td><td>Deposit</td></tr><tr><td>52</td><td>10</td><td>2024-02-21</td><td>200.75</td><td>Withdrawal</td></tr><tr><td>53</td><td>86</td><td>2024-02-22</td><td>150.00</td><td>Deposit</td></tr><tr><td>54</td><td>42</td><td>2024-02-23</td><td>300.25</td><td>Withdrawal</td></tr><tr><td>55</td><td>63</td><td>2024-02-24</td><td>250.00</td><td>Deposit</td></tr><tr><td>56</td><td>28</td><td>2024-02-25</td><td>175.00</td><td>Withdrawal</td></tr><tr><td>57</td><td>97</td><td>2024-02-26</td><td>225.50</td><td>Deposit</td></tr><tr><td>58</td><td>16</td><td>2024-02-27</td><td>275.75</td><td>Withdrawal</td></tr><tr><td>59</td><td>75</td><td>2024-02-28</td><td>325.00</td><td>Deposit</td></tr><tr><td>60</td><td>20</td><td>2024-02-29</td><td>375.25</td><td>Withdrawal</td></tr><tr><td>61</td><td>52</td><td>2024-03-01</td><td>100.50</td><td>Deposit</td></tr><tr><td>62</td><td>35</td><td>2024-03-02</td><td>200.75</td><td>Withdrawal</td></tr><tr><td>63</td><td>84</td><td>2024-03-03</td><td>150.00</td><td>Deposit</td></tr><tr><td>64</td><td>12</td><td>2024-03-04</td><td>300.25</td><td>Withdrawal</td></tr><tr><td>65</td><td>69</td><td>2024-03-05</td><td>250.00</td><td>Deposit</td></tr><tr><td>66</td><td>26</td><td>2024-03-06</td><td>175.00</td><td>Withdrawal</td></tr><tr><td>67</td><td>96</td><td>2024-03-07</td><td>225.50</td><td>Deposit</td></tr><tr><td>68</td><td>8</td><td>2024-03-08</td><td>275.75</td><td>Withdrawal</td></tr><tr><td>69</td><td>59</td><td>2024-03-09</td><td>325.00</td><td>Deposit</td></tr><tr><td>70</td><td>33</td><td>2024-03-10</td><td>375.25</td><td>Withdrawal</td></tr><tr><td>71</td><td>73</td><td>2024-03-11</td><td>100.50</td><td>Deposit</td></tr><tr><td>72</td><td>17</td><td>2024-03-12</td><td>200.75</td><td>Withdrawal</td></tr><tr><td>73</td><td>87</td><td>2024-03-13</td><td>150.00</td><td>Deposit</td></tr><tr><td>74</td><td>43</td><td>2024-03-14</td><td>300.25</td><td>Withdrawal</td></tr><tr><td>75</td><td>61</td><td>2024-03-15</td><td>250.00</td><td>Deposit</td></tr><tr><td>76</td><td>22</td><td>2024-03-16</td><td>175.00</td><td>Withdrawal</td></tr><tr><td>77</td><td>91</td><td>2024-03-17</td><td>225.50</td><td>Deposit</td></tr><tr><td>78</td><td>4</td><td>2024-03-18</td><td>275.75</td><td>Withdrawal</td></tr><tr><td>79</td><td>55</td><td>2024-03-19</td><td>325.00</td><td>Deposit</td></tr><tr><td>80</td><td>30</td><td>2024-03-20</td><td>375.25</td><td>Withdrawal</td></tr><tr><td>81</td><td>70</td><td>2024-03-21</td><td>100.50</td><td>Deposit</td></tr><tr><td>82</td><td>2</td><td>2024-03-22</td><td>200.75</td><td>Withdrawal</td></tr><tr><td>83</td><td>82</td><td>2024-03-23</td><td>150.00</td><td>Deposit</td></tr><tr><td>84</td><td>40</td><td>2024-03-24</td><td>300.25</td><td>Withdrawal</td></tr><tr><td>85</td><td>65</td><td>2024-03-25</td><td>250.00</td><td>Deposit</td></tr><tr><td>86</td><td>21</td><td>2024-03-26</td><td>175.00</td><td>Withdrawal</td></tr><tr><td>87</td><td>93</td><td>2024-03-27</td><td>225.50</td><td>Deposit</td></tr><tr><td>88</td><td>1</td><td>2024-03-28</td><td>275.75</td><td>Withdrawal</td></tr><tr><td>89</td><td>54</td><td>2024-03-29</td><td>325.00</td><td>Deposit</td></tr><tr><td>90</td><td>38</td><td>2024-03-30</td><td>375.25</td><td>Withdrawal</td></tr><tr><td>91</td><td>77</td><td>2024-03-31</td><td>100.50</td><td>Deposit</td></tr><tr><td>92</td><td>44</td><td>2024-04-01</td><td>200.75</td><td>Withdrawal</td></tr><tr><td>93</td><td>79</td><td>2024-04-02</td><td>150.00</td><td>Deposit</td></tr><tr><td>94</td><td>39</td><td>2024-04-03</td><td>300.25</td><td>Withdrawal</td></tr><tr><td>95</td><td>60</td><td>2024-04-04</td><td>250.00</td><td>Deposit</td></tr><tr><td>96</td><td>48</td><td>2024-04-05</td><td>175.00</td><td>Withdrawal</td></tr><tr><td>97</td><td>90</td><td>2024-04-06</td><td>225.50</td><td>Deposit</td></tr><tr><td>98</td><td>49</td><td>2024-04-07</td><td>275.75</td><td>Withdrawal</td></tr><tr><td>99</td><td>80</td><td>2024-04-08</td><td>325.00</td><td>Deposit</td></tr><tr><td>100</td><td>50</td><td>2024-04-09</td><td>375.25</td><td>Withdrawal</td></tr></tbody></table></div>"
      ]
     },
     "metadata": {
      "application/vnd.databricks.v1+output": {
       "addedWidgets": {},
       "aggData": [],
       "aggError": "",
       "aggOverflow": false,
       "aggSchema": [],
       "aggSeriesLimitReached": false,
       "aggType": "",
       "arguments": {},
       "columnCustomDisplayInfos": {},
       "data": [
        [
         "1",
         "45",
         "2024-01-01",
         "100.50",
         "Deposit"
        ],
        [
         "2",
         "12",
         "2024-01-02",
         "200.75",
         "Withdrawal"
        ],
        [
         "3",
         "78",
         "2024-01-03",
         "150.00",
         "Deposit"
        ],
        [
         "4",
         "34",
         "2024-01-04",
         "300.25",
         "Withdrawal"
        ],
        [
         "5",
         "56",
         "2024-01-05",
         "250.00",
         "Deposit"
        ],
        [
         "6",
         "23",
         "2024-01-06",
         "175.00",
         "Withdrawal"
        ],
        [
         "7",
         "89",
         "2024-01-07",
         "225.50",
         "Deposit"
        ],
        [
         "8",
         "67",
         "2024-01-08",
         "275.75",
         "Withdrawal"
        ],
        [
         "9",
         "14",
         "2024-01-09",
         "325.00",
         "Deposit"
        ],
        [
         "10",
         "92",
         "2024-01-10",
         "375.25",
         "Withdrawal"
        ],
        [
         "11",
         "3",
         "2024-01-11",
         "100.50",
         "Deposit"
        ],
        [
         "12",
         "81",
         "2024-01-12",
         "200.75",
         "Withdrawal"
        ],
        [
         "13",
         "29",
         "2024-01-13",
         "150.00",
         "Deposit"
        ],
        [
         "14",
         "64",
         "2024-01-14",
         "300.25",
         "Withdrawal"
        ],
        [
         "15",
         "47",
         "2024-01-15",
         "250.00",
         "Deposit"
        ],
        [
         "16",
         "18",
         "2024-01-16",
         "175.00",
         "Withdrawal"
        ],
        [
         "17",
         "99",
         "2024-01-17",
         "225.50",
         "Deposit"
        ],
        [
         "18",
         "5",
         "2024-01-18",
         "275.75",
         "Withdrawal"
        ],
        [
         "19",
         "76",
         "2024-01-19",
         "325.00",
         "Deposit"
        ],
        [
         "20",
         "21",
         "2024-01-20",
         "375.25",
         "Withdrawal"
        ],
        [
         "21",
         "53",
         "2024-01-21",
         "100.50",
         "Deposit"
        ],
        [
         "22",
         "37",
         "2024-01-22",
         "200.75",
         "Withdrawal"
        ],
        [
         "23",
         "88",
         "2024-01-23",
         "150.00",
         "Deposit"
        ],
        [
         "24",
         "11",
         "2024-01-24",
         "300.25",
         "Withdrawal"
        ],
        [
         "25",
         "66",
         "2024-01-25",
         "250.00",
         "Deposit"
        ],
        [
         "26",
         "25",
         "2024-01-26",
         "175.00",
         "Withdrawal"
        ],
        [
         "27",
         "94",
         "2024-01-27",
         "225.50",
         "Deposit"
        ],
        [
         "28",
         "7",
         "2024-01-28",
         "275.75",
         "Withdrawal"
        ],
        [
         "29",
         "58",
         "2024-01-29",
         "325.00",
         "Deposit"
        ],
        [
         "30",
         "32",
         "2024-01-30",
         "375.25",
         "Withdrawal"
        ],
        [
         "31",
         "71",
         "2024-01-31",
         "100.50",
         "Deposit"
        ],
        [
         "32",
         "9",
         "2024-02-01",
         "200.75",
         "Withdrawal"
        ],
        [
         "33",
         "85",
         "2024-02-02",
         "150.00",
         "Deposit"
        ],
        [
         "34",
         "41",
         "2024-02-03",
         "300.25",
         "Withdrawal"
        ],
        [
         "35",
         "62",
         "2024-02-04",
         "250.00",
         "Deposit"
        ],
        [
         "36",
         "27",
         "2024-02-05",
         "175.00",
         "Withdrawal"
        ],
        [
         "37",
         "98",
         "2024-02-06",
         "225.50",
         "Deposit"
        ],
        [
         "38",
         "15",
         "2024-02-07",
         "275.75",
         "Withdrawal"
        ],
        [
         "39",
         "74",
         "2024-02-08",
         "325.00",
         "Deposit"
        ],
        [
         "40",
         "19",
         "2024-02-09",
         "375.25",
         "Withdrawal"
        ],
        [
         "41",
         "51",
         "2024-02-10",
         "100.50",
         "Deposit"
        ],
        [
         "42",
         "36",
         "2024-02-11",
         "200.75",
         "Withdrawal"
        ],
        [
         "43",
         "83",
         "2024-02-12",
         "150.00",
         "Deposit"
        ],
        [
         "44",
         "13",
         "2024-02-13",
         "300.25",
         "Withdrawal"
        ],
        [
         "45",
         "68",
         "2024-02-14",
         "250.00",
         "Deposit"
        ],
        [
         "46",
         "24",
         "2024-02-15",
         "175.00",
         "Withdrawal"
        ],
        [
         "47",
         "95",
         "2024-02-16",
         "225.50",
         "Deposit"
        ],
        [
         "48",
         "6",
         "2024-02-17",
         "275.75",
         "Withdrawal"
        ],
        [
         "49",
         "57",
         "2024-02-18",
         "325.00",
         "Deposit"
        ],
        [
         "50",
         "31",
         "2024-02-19",
         "375.25",
         "Withdrawal"
        ],
        [
         "51",
         "72",
         "2024-02-20",
         "100.50",
         "Deposit"
        ],
        [
         "52",
         "10",
         "2024-02-21",
         "200.75",
         "Withdrawal"
        ],
        [
         "53",
         "86",
         "2024-02-22",
         "150.00",
         "Deposit"
        ],
        [
         "54",
         "42",
         "2024-02-23",
         "300.25",
         "Withdrawal"
        ],
        [
         "55",
         "63",
         "2024-02-24",
         "250.00",
         "Deposit"
        ],
        [
         "56",
         "28",
         "2024-02-25",
         "175.00",
         "Withdrawal"
        ],
        [
         "57",
         "97",
         "2024-02-26",
         "225.50",
         "Deposit"
        ],
        [
         "58",
         "16",
         "2024-02-27",
         "275.75",
         "Withdrawal"
        ],
        [
         "59",
         "75",
         "2024-02-28",
         "325.00",
         "Deposit"
        ],
        [
         "60",
         "20",
         "2024-02-29",
         "375.25",
         "Withdrawal"
        ],
        [
         "61",
         "52",
         "2024-03-01",
         "100.50",
         "Deposit"
        ],
        [
         "62",
         "35",
         "2024-03-02",
         "200.75",
         "Withdrawal"
        ],
        [
         "63",
         "84",
         "2024-03-03",
         "150.00",
         "Deposit"
        ],
        [
         "64",
         "12",
         "2024-03-04",
         "300.25",
         "Withdrawal"
        ],
        [
         "65",
         "69",
         "2024-03-05",
         "250.00",
         "Deposit"
        ],
        [
         "66",
         "26",
         "2024-03-06",
         "175.00",
         "Withdrawal"
        ],
        [
         "67",
         "96",
         "2024-03-07",
         "225.50",
         "Deposit"
        ],
        [
         "68",
         "8",
         "2024-03-08",
         "275.75",
         "Withdrawal"
        ],
        [
         "69",
         "59",
         "2024-03-09",
         "325.00",
         "Deposit"
        ],
        [
         "70",
         "33",
         "2024-03-10",
         "375.25",
         "Withdrawal"
        ],
        [
         "71",
         "73",
         "2024-03-11",
         "100.50",
         "Deposit"
        ],
        [
         "72",
         "17",
         "2024-03-12",
         "200.75",
         "Withdrawal"
        ],
        [
         "73",
         "87",
         "2024-03-13",
         "150.00",
         "Deposit"
        ],
        [
         "74",
         "43",
         "2024-03-14",
         "300.25",
         "Withdrawal"
        ],
        [
         "75",
         "61",
         "2024-03-15",
         "250.00",
         "Deposit"
        ],
        [
         "76",
         "22",
         "2024-03-16",
         "175.00",
         "Withdrawal"
        ],
        [
         "77",
         "91",
         "2024-03-17",
         "225.50",
         "Deposit"
        ],
        [
         "78",
         "4",
         "2024-03-18",
         "275.75",
         "Withdrawal"
        ],
        [
         "79",
         "55",
         "2024-03-19",
         "325.00",
         "Deposit"
        ],
        [
         "80",
         "30",
         "2024-03-20",
         "375.25",
         "Withdrawal"
        ],
        [
         "81",
         "70",
         "2024-03-21",
         "100.50",
         "Deposit"
        ],
        [
         "82",
         "2",
         "2024-03-22",
         "200.75",
         "Withdrawal"
        ],
        [
         "83",
         "82",
         "2024-03-23",
         "150.00",
         "Deposit"
        ],
        [
         "84",
         "40",
         "2024-03-24",
         "300.25",
         "Withdrawal"
        ],
        [
         "85",
         "65",
         "2024-03-25",
         "250.00",
         "Deposit"
        ],
        [
         "86",
         "21",
         "2024-03-26",
         "175.00",
         "Withdrawal"
        ],
        [
         "87",
         "93",
         "2024-03-27",
         "225.50",
         "Deposit"
        ],
        [
         "88",
         "1",
         "2024-03-28",
         "275.75",
         "Withdrawal"
        ],
        [
         "89",
         "54",
         "2024-03-29",
         "325.00",
         "Deposit"
        ],
        [
         "90",
         "38",
         "2024-03-30",
         "375.25",
         "Withdrawal"
        ],
        [
         "91",
         "77",
         "2024-03-31",
         "100.50",
         "Deposit"
        ],
        [
         "92",
         "44",
         "2024-04-01",
         "200.75",
         "Withdrawal"
        ],
        [
         "93",
         "79",
         "2024-04-02",
         "150.00",
         "Deposit"
        ],
        [
         "94",
         "39",
         "2024-04-03",
         "300.25",
         "Withdrawal"
        ],
        [
         "95",
         "60",
         "2024-04-04",
         "250.00",
         "Deposit"
        ],
        [
         "96",
         "48",
         "2024-04-05",
         "175.00",
         "Withdrawal"
        ],
        [
         "97",
         "90",
         "2024-04-06",
         "225.50",
         "Deposit"
        ],
        [
         "98",
         "49",
         "2024-04-07",
         "275.75",
         "Withdrawal"
        ],
        [
         "99",
         "80",
         "2024-04-08",
         "325.00",
         "Deposit"
        ],
        [
         "100",
         "50",
         "2024-04-09",
         "375.25",
         "Withdrawal"
        ]
       ],
       "datasetInfos": [],
       "dbfsResultPath": null,
       "isJsonSchema": true,
       "metadata": {},
       "overflow": false,
       "plotOptions": {
        "customPlotOptions": {},
        "displayType": "table",
        "pivotAggregation": null,
        "pivotColumns": null,
        "xColumns": null,
        "yColumns": null
       },
       "removedWidgets": [],
       "schema": [
        {
         "metadata": "{}",
         "name": "transaction_id",
         "type": "\"string\""
        },
        {
         "metadata": "{}",
         "name": "account_id",
         "type": "\"string\""
        },
        {
         "metadata": "{}",
         "name": "transaction_date",
         "type": "\"string\""
        },
        {
         "metadata": "{}",
         "name": "transaction_amount",
         "type": "\"string\""
        },
        {
         "metadata": "{}",
         "name": "transaction_type",
         "type": "\"string\""
        }
       ],
       "type": "table"
      }
     },
     "output_type": "display_data"
    }
   ],
   "source": [
    "df_t = spark.read \\\n",
    "    .option(\"header\", \"true\") \\\n",
    "    .option(\"delimiter\", \",\") \\\n",
    "    .csv(\"abfss://raw@storageforcustomers.dfs.core.windows.net/transactions.csv\")\n",
    "display(df_t)\n"
   ]
  },
  {
   "cell_type": "code",
   "execution_count": 0,
   "metadata": {
    "application/vnd.databricks.v1+cell": {
     "cellMetadata": {
      "byteLimit": 2048000,
      "rowLimit": 10000
     },
     "inputWidgets": {},
     "nuid": "242debef-4248-48d9-9482-3c6615de08ca",
     "showTitle": false,
     "tableResultSettingsMap": {},
     "title": ""
    }
   },
   "outputs": [
    {
     "output_type": "stream",
     "name": "stdout",
     "output_type": "stream",
     "text": [
      "+--------------+----------+----------------+------------------+----------------+\n|transaction_id|account_id|transaction_date|transaction_amount|transaction_type|\n+--------------+----------+----------------+------------------+----------------+\n|             1|        45|      2024-01-01|             100.5|         Deposit|\n|             2|        12|      2024-01-02|            200.75|      Withdrawal|\n|             3|        78|      2024-01-03|             150.0|         Deposit|\n|             4|        34|      2024-01-04|            300.25|      Withdrawal|\n|             5|        56|      2024-01-05|             250.0|         Deposit|\n|             6|        23|      2024-01-06|             175.0|      Withdrawal|\n|             7|        89|      2024-01-07|             225.5|         Deposit|\n|             8|        67|      2024-01-08|            275.75|      Withdrawal|\n|             9|        14|      2024-01-09|             325.0|         Deposit|\n|            10|        92|      2024-01-10|            375.25|      Withdrawal|\n|            11|         3|      2024-01-11|             100.5|         Deposit|\n|            12|        81|      2024-01-12|            200.75|      Withdrawal|\n|            13|        29|      2024-01-13|             150.0|         Deposit|\n|            14|        64|      2024-01-14|            300.25|      Withdrawal|\n|            15|        47|      2024-01-15|             250.0|         Deposit|\n|            16|        18|      2024-01-16|             175.0|      Withdrawal|\n|            17|        99|      2024-01-17|             225.5|         Deposit|\n|            18|         5|      2024-01-18|            275.75|      Withdrawal|\n|            19|        76|      2024-01-19|             325.0|         Deposit|\n|            20|        21|      2024-01-20|            375.25|      Withdrawal|\n+--------------+----------+----------------+------------------+----------------+\nonly showing top 20 rows\n\n"
     ]
    }
   ],
   "source": [
    "\n",
    "\n",
    "df_t = df_t \\\n",
    "    .withColumn(\"transaction_id\", col(\"transaction_id\").cast(IntegerType())) \\\n",
    "    .withColumn(\"account_id\", col(\"account_id\").cast(IntegerType())) \\\n",
    "    .withColumn(\"transaction_date\", col(\"transaction_date\").cast(DateType())) \\\n",
    "    .withColumn(\"transaction_amount\", col(\"transaction_amount\").cast(DoubleType())) \\\n",
    "    .withColumn(\"transaction_type\", col(\"transaction_type\").cast(StringType()))\n",
    "\n",
    "df_t.show()\n"
   ]
  },
  {
   "cell_type": "code",
   "execution_count": 0,
   "metadata": {
    "application/vnd.databricks.v1+cell": {
     "cellMetadata": {
      "byteLimit": 2048000,
      "rowLimit": 10000
     },
     "inputWidgets": {},
     "nuid": "5f1c3553-5e8f-4ccb-b13c-ed69151518d2",
     "showTitle": false,
     "tableResultSettingsMap": {},
     "title": ""
    }
   },
   "outputs": [],
   "source": [
    "df_t.write.format(\"delta\").mode(\"overwrite\").save(\"abfss://raw@storageforcustomers.dfs.core.windows.net/cleaned_data/transactions.csv\")"
   ]
  },
  {
   "cell_type": "code",
   "execution_count": 0,
   "metadata": {
    "application/vnd.databricks.v1+cell": {
     "cellMetadata": {
      "byteLimit": 2048000,
      "rowLimit": 10000
     },
     "inputWidgets": {},
     "nuid": "b48d7dd5-471d-4ba0-a093-ee0f23c95fa5",
     "showTitle": false,
     "tableResultSettingsMap": {},
     "title": ""
    }
   },
   "outputs": [],
   "source": []
  }
 ],
 "metadata": {
  "application/vnd.databricks.v1+notebook": {
   "dashboards": [],
   "environmentMetadata": {
    "base_environment": "",
    "client": "1"
   },
   "language": "python",
   "notebookMetadata": {
    "pythonIndentUnit": 4
   },
   "notebookName": "Cleaning",
   "widgets": {}
  },
  "language_info": {
   "name": "python"
  }
 },
 "nbformat": 4,
 "nbformat_minor": 0
}
