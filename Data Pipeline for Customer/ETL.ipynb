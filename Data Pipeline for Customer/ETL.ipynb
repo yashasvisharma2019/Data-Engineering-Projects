{
 "cells": [
  {
   "cell_type": "code",
   "execution_count": 0,
   "metadata": {
    "application/vnd.databricks.v1+cell": {
     "cellMetadata": {
      "byteLimit": 2048000,
      "rowLimit": 10000
     },
     "inputWidgets": {},
     "nuid": "b2f918c9-ff2c-4ed9-8ced-8ea57dbbb708",
     "showTitle": false,
     "tableResultSettingsMap": {},
     "title": ""
    }
   },
   "outputs": [],
   "source": [
    "secret=dbutils.secrets.get('newscope12','scope')"
   ]
  },
  {
   "cell_type": "code",
   "execution_count": 0,
   "metadata": {
    "application/vnd.databricks.v1+cell": {
     "cellMetadata": {
      "byteLimit": 2048000,
      "rowLimit": 10000
     },
     "inputWidgets": {},
     "nuid": "d165e5a1-35f9-496f-a490-9b9caa8c3179",
     "showTitle": false,
     "tableResultSettingsMap": {},
     "title": ""
    }
   },
   "outputs": [],
   "source": [
    "client_id = \"88dec17f-62f0-4cab-82b7-b9022c2cc21c\"\n",
    "client_secret = secret\n",
    "directory_id=\"037e0179-cd0e-4201-951c-167b7554d77a\"\n",
    "\n",
    "spark.conf.set(\"fs.azure.account.auth.type.storageforcustomers.dfs.core.windows.net\", \"OAuth\")\n",
    "spark.conf.set(\"fs.azure.account.oauth.provider.type.storageforcustomers.dfs.core.windows.net\", \"org.apache.hadoop.fs.azurebfs.oauth2.ClientCredsTokenProvider\")\n",
    "spark.conf.set(\"fs.azure.account.oauth2.client.id.storageforcustomers.dfs.core.windows.net\", client_id)\n",
    "spark.conf.set(\"fs.azure.account.oauth2.client.secret.storageforcustomers.dfs.core.windows.net\", client_secret)\n",
    "spark.conf.set(\"fs.azure.account.oauth2.client.endpoint.storageforcustomers.dfs.core.windows.net\", f\"https://login.microsoftonline.com/{directory_id}/oauth2/token\")"
   ]
  },
  {
   "cell_type": "code",
   "execution_count": 0,
   "metadata": {
    "application/vnd.databricks.v1+cell": {
     "cellMetadata": {
      "byteLimit": 2048000,
      "rowLimit": 10000
     },
     "inputWidgets": {},
     "nuid": "505e6d70-3d0b-48d8-b848-ccb81815389d",
     "showTitle": false,
     "tableResultSettingsMap": {},
     "title": ""
    }
   },
   "outputs": [
    {
     "output_type": "display_data",
     "data": {
      "text/html": [
       "<style scoped>\n",
       "  .table-result-container {\n",
       "    max-height: 300px;\n",
       "    overflow: auto;\n",
       "  }\n",
       "  table, th, td {\n",
       "    border: 1px solid black;\n",
       "    border-collapse: collapse;\n",
       "  }\n",
       "  th, td {\n",
       "    padding: 5px;\n",
       "  }\n",
       "  th {\n",
       "    text-align: left;\n",
       "  }\n",
       "</style><div class='table-result-container'><table class='table-result'><thead style='background-color: white'><tr><th>name</th></tr></thead><tbody><tr><td>newscope</td></tr><tr><td>newscope12</td></tr><tr><td>training_scope</td></tr></tbody></table></div>"
      ]
     },
     "metadata": {
      "application/vnd.databricks.v1+output": {
       "addedWidgets": {},
       "aggData": [],
       "aggError": "",
       "aggOverflow": false,
       "aggSchema": [],
       "aggSeriesLimitReached": false,
       "aggType": "",
       "arguments": {},
       "columnCustomDisplayInfos": {},
       "data": [
        [
         "newscope"
        ],
        [
         "newscope12"
        ],
        [
         "training_scope"
        ]
       ],
       "datasetInfos": [],
       "dbfsResultPath": null,
       "isJsonSchema": true,
       "metadata": {},
       "overflow": false,
       "plotOptions": {
        "customPlotOptions": {},
        "displayType": "table",
        "pivotAggregation": null,
        "pivotColumns": null,
        "xColumns": null,
        "yColumns": null
       },
       "removedWidgets": [],
       "schema": [
        {
         "metadata": "{}",
         "name": "name",
         "type": "\"string\""
        }
       ],
       "type": "table"
      }
     },
     "output_type": "display_data"
    },
    {
     "output_type": "display_data",
     "data": {
      "text/html": [
       "<style scoped>\n",
       "  .table-result-container {\n",
       "    max-height: 300px;\n",
       "    overflow: auto;\n",
       "  }\n",
       "  table, th, td {\n",
       "    border: 1px solid black;\n",
       "    border-collapse: collapse;\n",
       "  }\n",
       "  th, td {\n",
       "    padding: 5px;\n",
       "  }\n",
       "  th {\n",
       "    text-align: left;\n",
       "  }\n",
       "</style><div class='table-result-container'><table class='table-result'><thead style='background-color: white'><tr><th>key</th></tr></thead><tbody><tr><td>scope</td></tr></tbody></table></div>"
      ]
     },
     "metadata": {
      "application/vnd.databricks.v1+output": {
       "addedWidgets": {},
       "aggData": [],
       "aggError": "",
       "aggOverflow": false,
       "aggSchema": [],
       "aggSeriesLimitReached": false,
       "aggType": "",
       "arguments": {},
       "columnCustomDisplayInfos": {},
       "data": [
        [
         "scope"
        ]
       ],
       "datasetInfos": [],
       "dbfsResultPath": null,
       "isJsonSchema": true,
       "metadata": {},
       "overflow": false,
       "plotOptions": {
        "customPlotOptions": {},
        "displayType": "table",
        "pivotAggregation": null,
        "pivotColumns": null,
        "xColumns": null,
        "yColumns": null
       },
       "removedWidgets": [],
       "schema": [
        {
         "metadata": "{}",
         "name": "key",
         "type": "\"string\""
        }
       ],
       "type": "table"
      }
     },
     "output_type": "display_data"
    }
   ],
   "source": [
    "display(dbutils.secrets.listScopes())\n",
    "display(dbutils.secrets.list('newscope12'))"
   ]
  },
  {
   "cell_type": "code",
   "execution_count": 0,
   "metadata": {
    "application/vnd.databricks.v1+cell": {
     "cellMetadata": {
      "byteLimit": 2048000,
      "rowLimit": 10000
     },
     "inputWidgets": {},
     "nuid": "7d4b4c5a-5657-4ddf-9f3a-465841f8c4e6",
     "showTitle": false,
     "tableResultSettingsMap": {},
     "title": ""
    }
   },
   "outputs": [
    {
     "output_type": "display_data",
     "data": {
      "text/html": [
       "<style scoped>\n",
       "  .table-result-container {\n",
       "    max-height: 300px;\n",
       "    overflow: auto;\n",
       "  }\n",
       "  table, th, td {\n",
       "    border: 1px solid black;\n",
       "    border-collapse: collapse;\n",
       "  }\n",
       "  th, td {\n",
       "    padding: 5px;\n",
       "  }\n",
       "  th {\n",
       "    text-align: left;\n",
       "  }\n",
       "</style><div class='table-result-container'><table class='table-result'><thead style='background-color: white'><tr><th>path</th><th>name</th><th>size</th><th>modificationTime</th></tr></thead><tbody><tr><td>abfss://raw@storageforcustomers.dfs.core.windows.net/accounts.csv</td><td>accounts.csv</td><td>2331</td><td>1730905206000</td></tr><tr><td>abfss://raw@storageforcustomers.dfs.core.windows.net/cleaned_data/</td><td>cleaned_data/</td><td>0</td><td>1730934907000</td></tr><tr><td>abfss://raw@storageforcustomers.dfs.core.windows.net/customers.csv</td><td>customers.csv</td><td>4603</td><td>1730905207000</td></tr><tr><td>abfss://raw@storageforcustomers.dfs.core.windows.net/loan_payments.csv</td><td>loan_payments.csv</td><td>2613</td><td>1730905205000</td></tr><tr><td>abfss://raw@storageforcustomers.dfs.core.windows.net/loans.csv</td><td>loans.csv</td><td>2340</td><td>1730905209000</td></tr><tr><td>abfss://raw@storageforcustomers.dfs.core.windows.net/transactions.csv</td><td>transactions.csv</td><td>3513</td><td>1730905207000</td></tr></tbody></table></div>"
      ]
     },
     "metadata": {
      "application/vnd.databricks.v1+output": {
       "addedWidgets": {},
       "aggData": [],
       "aggError": "",
       "aggOverflow": false,
       "aggSchema": [],
       "aggSeriesLimitReached": false,
       "aggType": "",
       "arguments": {},
       "columnCustomDisplayInfos": {},
       "data": [
        [
         "abfss://raw@storageforcustomers.dfs.core.windows.net/accounts.csv",
         "accounts.csv",
         2331,
         1730905206000
        ],
        [
         "abfss://raw@storageforcustomers.dfs.core.windows.net/cleaned_data/",
         "cleaned_data/",
         0,
         1730934907000
        ],
        [
         "abfss://raw@storageforcustomers.dfs.core.windows.net/customers.csv",
         "customers.csv",
         4603,
         1730905207000
        ],
        [
         "abfss://raw@storageforcustomers.dfs.core.windows.net/loan_payments.csv",
         "loan_payments.csv",
         2613,
         1730905205000
        ],
        [
         "abfss://raw@storageforcustomers.dfs.core.windows.net/loans.csv",
         "loans.csv",
         2340,
         1730905209000
        ],
        [
         "abfss://raw@storageforcustomers.dfs.core.windows.net/transactions.csv",
         "transactions.csv",
         3513,
         1730905207000
        ]
       ],
       "datasetInfos": [],
       "dbfsResultPath": null,
       "isJsonSchema": true,
       "metadata": {},
       "overflow": false,
       "plotOptions": {
        "customPlotOptions": {},
        "displayType": "table",
        "pivotAggregation": null,
        "pivotColumns": null,
        "xColumns": null,
        "yColumns": null
       },
       "removedWidgets": [],
       "schema": [
        {
         "metadata": "{}",
         "name": "path",
         "type": "\"string\""
        },
        {
         "metadata": "{}",
         "name": "name",
         "type": "\"string\""
        },
        {
         "metadata": "{}",
         "name": "size",
         "type": "\"long\""
        },
        {
         "metadata": "{}",
         "name": "modificationTime",
         "type": "\"long\""
        }
       ],
       "type": "table"
      }
     },
     "output_type": "display_data"
    }
   ],
   "source": [
    "display(dbutils.fs.ls(\"abfss://raw@storageforcustomers.dfs.core.windows.net\"))"
   ]
  },
  {
   "cell_type": "code",
   "execution_count": 0,
   "metadata": {
    "application/vnd.databricks.v1+cell": {
     "cellMetadata": {
      "byteLimit": 2048000,
      "rowLimit": 10000
     },
     "inputWidgets": {},
     "nuid": "19579752-1379-4d44-ab38-059e915fa421",
     "showTitle": false,
     "tableResultSettingsMap": {},
     "title": ""
    }
   },
   "outputs": [
    {
     "output_type": "stream",
     "name": "stdout",
     "output_type": "stream",
     "text": [
      "+----------+-----------+------------+-------+\n|account_id|customer_id|account_type|balance|\n+----------+-----------+------------+-------+\n|         1|         45|     Savings| 1000.5|\n|         2|         12|    Checking|2500.75|\n|         3|         78|     Savings| 1500.0|\n|         4|         34|    Checking|3000.25|\n|         5|         56|     Savings|  500.0|\n|         6|         23|    Checking| 1200.5|\n|         7|         89|     Savings| 800.75|\n|         8|         67|    Checking| 2200.0|\n|         9|         14|     Savings| 900.25|\n|        10|         92|    Checking| 1800.5|\n|        11|          3|     Savings|1100.75|\n|        12|         81|    Checking| 2700.0|\n|        13|         29|     Savings|1300.25|\n|        14|         64|    Checking| 3200.5|\n|        15|         47|     Savings| 700.75|\n|        16|         18|    Checking| 1400.0|\n|        17|         99|     Savings| 600.25|\n|        18|          5|    Checking| 1600.5|\n|        19|         76|     Savings| 400.75|\n|        20|         21|    Checking| 2000.0|\n+----------+-----------+------------+-------+\nonly showing top 20 rows\n\n+-----------+-----------+---------+---------------+-------------+-----+------+\n|customer_id| first_name|last_name|        address|         city|state|   zip|\n+-----------+-----------+---------+---------------+-------------+-----+------+\n|          1|       John|      Doe|     123 Elm St|      Toronto|   ON|M4B1B3|\n|          2|       Jane|    Smith|  456 Maple Ave|       Ottawa|   ON|K1A0B1|\n|          3|    Michael|  Johnson|     789 Oak Dr|     Montreal|   QC|H1A1A1|\n|          4|      Emily|    Davis|    101 Pine Rd|      Calgary|   AB|T2A0A1|\n|          5|      David|   Wilson| 202 Birch Blvd|    Vancouver|   BC|V5K0A1|\n|          6|       Emma|    Clark|   505 Cedar St|      Halifax|   NS|B3H0A1|\n|          7|      James| Martinez|  606 Spruce Ln|     Winnipeg|   MB|R3C0A1|\n|          8|     Olivia|   Garcia|     707 Fir St|     Edmonton|   AB|T5A0A1|\n|          9|    William|    Lopez| 808 Redwood Dr|     Victoria|   BC|V8W0A1|\n|         10|        Ava| Anderson|909 Cypress Ave|  Quebec City|   QC|G1A0A1|\n|         11|  Alexander|   Thomas| 1010 Willow Rd|   St. John's|   NL|A1A0A1|\n|         12|   Isabella|      Lee| 1111 Poplar St|  Fredericton|   NB|E3B0A1|\n|         13|     Daniel|   Harris|  1212 Ash Blvd|Charlottetown|   PE|C1A0A1|\n|         14|     Sophia|    Young|  1313 Beech Dr|  Yellowknife|   NT|X1A0A1|\n|         15|    Matthew|     King|  1414 Cedar Ln|   Whitehorse|   YT|Y1A0A1|\n|         16|  Charlotte|    Scott|    1515 Elm St|      Iqaluit|   NU|X0A0A1|\n|         17|     Joseph|    Green| 1616 Maple Ave|       Regina|   SK|S4P0A1|\n|         18|     Amelia|    Adams|    1717 Oak Dr|    Saskatoon|   SK|S7K0A1|\n|         19|Christopher|    Baker|   1818 Pine Rd|  Thunder Bay|   ON|P7A0A1|\n|         20|        Mia|   Nelson|1919 Birch Blvd|       London|   ON|N6A0A1|\n+-----------+-----------+---------+---------------+-------------+-----+------+\nonly showing top 20 rows\n\n"
     ]
    }
   ],
   "source": [
    "df_accounts = spark.read.format(\"delta\").load(\"abfss://raw@storageforcustomers.dfs.core.windows.net/cleaned_data/accounts.csv\")\n",
    "df_customers = spark.read.format(\"delta\").load(\"abfss://raw@storageforcustomers.dfs.core.windows.net/cleaned_data/customers.csv\")\n",
    "df_accounts.show(20)\n",
    "df_customers.show(20)"
   ]
  },
  {
   "cell_type": "code",
   "execution_count": 0,
   "metadata": {
    "application/vnd.databricks.v1+cell": {
     "cellMetadata": {
      "byteLimit": 2048000,
      "rowLimit": 10000
     },
     "inputWidgets": {},
     "nuid": "2a1ca351-7ea6-40b6-8bc4-6984cc6761cb",
     "showTitle": false,
     "tableResultSettingsMap": {},
     "title": ""
    }
   },
   "outputs": [
    {
     "output_type": "stream",
     "name": "stdout",
     "output_type": "stream",
     "text": [
      "+-----------+-----------+----------+----------------+--------------+-----+------+-------------+----------+------------+-------+\n|customer_id| first_name| last_name|         address|          city|state|   zip|total_balance|account_id|account_type|balance|\n+-----------+-----------+----------+----------------+--------------+-----+------+-------------+----------+------------+-------+\n|          1|       John|       Doe|      123 Elm St|       Toronto|   ON|M4B1B3|       8900.0|        88|    Checking| 8900.0|\n|          2|       Jane|     Smith|   456 Maple Ave|        Ottawa|   ON|K1A0B1|       8300.5|        82|    Checking| 8300.5|\n|          3|    Michael|   Johnson|      789 Oak Dr|      Montreal|   QC|H1A1A1|      1100.75|        11|     Savings|1100.75|\n|          4|      Emily|     Davis|     101 Pine Rd|       Calgary|   AB|T2A0A1|       7900.5|        78|    Checking| 7900.5|\n|          5|      David|    Wilson|  202 Birch Blvd|     Vancouver|   BC|V5K0A1|       1600.5|        18|    Checking| 1600.5|\n|          6|       Emma|     Clark|    505 Cedar St|       Halifax|   NS|B3H0A1|       4900.0|        48|    Checking| 4900.0|\n|          7|      James|  Martinez|   606 Spruce Ln|      Winnipeg|   MB|R3C0A1|       2900.0|        28|    Checking| 2900.0|\n|          8|     Olivia|    Garcia|      707 Fir St|      Edmonton|   AB|T5A0A1|       6900.0|        68|    Checking| 6900.0|\n|          9|    William|     Lopez|  808 Redwood Dr|      Victoria|   BC|V8W0A1|       3300.0|        32|    Checking| 3300.0|\n|         10|        Ava|  Anderson| 909 Cypress Ave|   Quebec City|   QC|G1A0A1|       5300.0|        52|    Checking| 5300.0|\n|         11|  Alexander|    Thomas|  1010 Willow Rd|    St. John's|   NL|A1A0A1|       2600.0|        24|    Checking| 2600.0|\n|         12|   Isabella|       Lee|  1111 Poplar St|   Fredericton|   NB|E3B0A1|      9000.75|        64|    Checking| 6500.0|\n|         13|     Daniel|    Harris|   1212 Ash Blvd| Charlottetown|   PE|C1A0A1|       4500.0|        44|    Checking| 4500.0|\n|         14|     Sophia|     Young|   1313 Beech Dr|   Yellowknife|   NT|X1A0A1|       900.25|         9|     Savings| 900.25|\n|         15|    Matthew|      King|   1414 Cedar Ln|    Whitehorse|   YT|Y1A0A1|       3900.5|        38|    Checking| 3900.5|\n|         16|  Charlotte|     Scott|     1515 Elm St|       Iqaluit|   NU|X0A0A1|       5900.5|        58|    Checking| 5900.5|\n|         17|     Joseph|     Green|  1616 Maple Ave|        Regina|   SK|S4P0A1|       7300.0|        72|    Checking| 7300.0|\n|         18|     Amelia|     Adams|     1717 Oak Dr|     Saskatoon|   SK|S7K0A1|       1400.0|        16|    Checking| 1400.0|\n|         19|Christopher|     Baker|    1818 Pine Rd|   Thunder Bay|   ON|P7A0A1|       4100.0|        40|    Checking| 4100.0|\n|         20|        Mia|    Nelson| 1919 Birch Blvd|        London|   ON|N6A0A1|       6100.0|        60|    Checking| 6100.0|\n|         21|     Andrew|  Mitchell|  2020 Spruce Ln|      Hamilton|   ON|L8P0A1|      10700.5|        86|    Checking| 8700.5|\n|         22|     Harper|   Roberts|     2121 Fir St|     Kitchener|   ON|N2G0A1|       7700.0|        76|    Checking| 7700.0|\n|         23|     Joshua|    Turner| 2222 Redwood Dr|       Windsor|   ON|N9A0A1|       1200.5|         6|    Checking| 1200.5|\n|         24|     Evelyn|  Phillips|2323 Cypress Ave|      Kingston|   ON|K7L0A1|       4700.5|        46|    Checking| 4700.5|\n|         25|     Daniel|  Campbell|  2424 Willow Rd|St. Catharines|   ON|L2R0A1|       2800.5|        26|    Checking| 2800.5|\n|         26|    Abigail|    Parker|  2525 Poplar St|        Barrie|   ON|L4M0A1|       6700.5|        66|    Checking| 6700.5|\n|         27|      James|     Evans|   2626 Ash Blvd|        Guelph|   ON|N1H0A1|       3700.0|        36|    Checking| 3700.0|\n|         28|      Emily|   Edwards|   2727 Beech Dr|     Brantford|   ON|N3T0A1|       5700.0|        56|    Checking| 5700.0|\n|         29|    Michael|   Collins|   2828 Cedar Ln|   Thunder Bay|   ON|P7B0A1|      1300.25|        13|     Savings|1300.25|\n|         30|  Elizabeth|   Stewart|     2929 Elm St|  Peterborough|   ON|K9H0A1|       8100.0|        80|    Checking| 8100.0|\n|         31|      David|   Sanchez|  3030 Maple Ave|     North Bay|   ON|P1B0A1|       5100.5|        50|    Checking| 5100.5|\n|         32|     Sophia|    Morris|     3131 Oak Dr|    Belleville|   ON|K8N0A1|       3100.5|        30|    Checking| 3100.5|\n|         33|       John|    Rogers|    3232 Pine Rd|       Timmins|   ON|P4N0A1|       7100.5|        70|    Checking| 7100.5|\n|         34|     Olivia|      Reed| 3333 Birch Blvd|       Orillia|   ON|L3V0A1|      3000.25|         4|    Checking|3000.25|\n|         35|    William|      Cook|  3434 Spruce Ln|       Midland|   ON|L4R0A1|       6300.5|        62|    Checking| 6300.5|\n|         36|        Ava|    Morgan|     3535 Fir St|   Collingwood|   ON|L9Y0A1|       4300.5|        42|    Checking| 4300.5|\n|         37|  Alexander|      Bell| 3636 Redwood Dr|     Stratford|   ON|N5A0A1|       2400.5|        22|    Checking| 2400.5|\n|         38|   Isabella|    Murphy|3737 Cypress Ave|     Woodstock|   ON|N4S0A1|       9100.5|        90|    Checking| 9100.5|\n|         39|     Daniel|    Bailey|  3838 Willow Rd|   Orangeville|   ON|L9W0A1|       9500.5|        94|    Checking| 9500.5|\n|         40|     Sophia|    Rivera|  3939 Poplar St|        Milton|   ON|L9T0A1|       8500.0|        84|    Checking| 8500.0|\n|         41|    Matthew|    Cooper|   4040 Ash Blvd|    Georgetown|   ON|L7G0A1|       3500.5|        34|    Checking| 3500.5|\n|         42|  Charlotte|Richardson|   4141 Beech Dr|     Newmarket|   ON|L3Y0A1|       5500.5|        54|    Checking| 5500.5|\n|         43|     Joseph|       Cox|   4242 Cedar Ln|        Aurora|   ON|L4G0A1|       7500.5|        74|    Checking| 7500.5|\n|         44|     Amelia|    Howard|     4343 Elm St|      Bradford|   ON|L3Z0A1|       9300.0|        92|    Checking| 9300.0|\n|         45|Christopher|      Ward|  4444 Maple Ave|       Keswick|   ON|L4P0A1|       1000.5|         1|     Savings| 1000.5|\n|         46|        Mia|    Brooks|     4545 Oak Dr|   Stouffville|   ON|L4A0A1|         NULL|      NULL|        NULL|   NULL|\n|         47|     Andrew|      Gray|    4646 Pine Rd|      Uxbridge|   ON|L9P0A1|       700.75|        15|     Savings| 700.75|\n|         48|     Harper|     James| 4747 Birch Blvd|    Port Perry|   ON|L9L0A1|       9700.0|        96|    Checking| 9700.0|\n|         49|     Joshua|   Bennett|  4848 Spruce Ln|     Beaverton|   ON|L0K0A1|       9900.5|        98|    Checking| 9900.5|\n|         50|     Evelyn|    Barnes|     4949 Fir St|        Sutton|   ON|L0E0A1|      10100.0|       100|    Checking|10100.0|\n+-----------+-----------+----------+----------------+--------------+-----+------+-------------+----------+------------+-------+\nonly showing top 50 rows\n\n"
     ]
    }
   ],
   "source": [
    "from pyspark.sql.functions import *\n",
    "\n",
    "# Perform the transformation: calculate total balance for each customer\n",
    "transformed_df = df_customers.join(df_accounts, \"customer_id\", \"left\") \\\n",
    "    .groupBy(*df_customers.columns) \\\n",
    "    .agg(\n",
    "        sum(\"balance\").alias(\"total_balance\"),\n",
    "        *[first(col).alias(col) for col in df_accounts.columns if col != \"customer_id\"]\n",
    "    ) \\\n",
    "    .orderBy(asc(\"customer_id\"))\n",
    "\n",
    "transformed_df.show(50)\n"
   ]
  },
  {
   "cell_type": "code",
   "execution_count": 0,
   "metadata": {
    "application/vnd.databricks.v1+cell": {
     "cellMetadata": {
      "byteLimit": 2048000,
      "rowLimit": 10000
     },
     "inputWidgets": {},
     "nuid": "e4349618-84ca-4287-b9ae-daeeb93eb3ff",
     "showTitle": false,
     "tableResultSettingsMap": {},
     "title": ""
    }
   },
   "outputs": [],
   "source": [
    "transformed_df.write.format(\"delta\").mode(\"overwrite\").save(\"abfss://gold@storageforcustomers.dfs.core.windows.net/customer_total_balances\")"
   ]
  },
  {
   "cell_type": "code",
   "execution_count": 0,
   "metadata": {
    "application/vnd.databricks.v1+cell": {
     "cellMetadata": {
      "byteLimit": 2048000,
      "rowLimit": 10000
     },
     "inputWidgets": {},
     "nuid": "22733007-09a4-47de-98f1-1f34616abcbb",
     "showTitle": false,
     "tableResultSettingsMap": {},
     "title": ""
    }
   },
   "outputs": [
    {
     "output_type": "stream",
     "name": "stdout",
     "output_type": "stream",
     "text": [
      "+-----------+-----------+----------+----------------+--------------+-----+------+-------------+----------+------------+-------+\n|customer_id| first_name| last_name|         address|          city|state|   zip|total_balance|account_id|account_type|balance|\n+-----------+-----------+----------+----------------+--------------+-----+------+-------------+----------+------------+-------+\n|          1|       John|       Doe|      123 Elm St|       Toronto|   ON|M4B1B3|       8900.0|        88|    Checking| 8900.0|\n|          2|       Jane|     Smith|   456 Maple Ave|        Ottawa|   ON|K1A0B1|       8300.5|        82|    Checking| 8300.5|\n|          3|    Michael|   Johnson|      789 Oak Dr|      Montreal|   QC|H1A1A1|      1100.75|        11|     Savings|1100.75|\n|          4|      Emily|     Davis|     101 Pine Rd|       Calgary|   AB|T2A0A1|       7900.5|        78|    Checking| 7900.5|\n|          5|      David|    Wilson|  202 Birch Blvd|     Vancouver|   BC|V5K0A1|       1600.5|        18|    Checking| 1600.5|\n|          6|       Emma|     Clark|    505 Cedar St|       Halifax|   NS|B3H0A1|       4900.0|        48|    Checking| 4900.0|\n|          7|      James|  Martinez|   606 Spruce Ln|      Winnipeg|   MB|R3C0A1|       2900.0|        28|    Checking| 2900.0|\n|          8|     Olivia|    Garcia|      707 Fir St|      Edmonton|   AB|T5A0A1|       6900.0|        68|    Checking| 6900.0|\n|          9|    William|     Lopez|  808 Redwood Dr|      Victoria|   BC|V8W0A1|       3300.0|        32|    Checking| 3300.0|\n|         10|        Ava|  Anderson| 909 Cypress Ave|   Quebec City|   QC|G1A0A1|       5300.0|        52|    Checking| 5300.0|\n|         11|  Alexander|    Thomas|  1010 Willow Rd|    St. John's|   NL|A1A0A1|       2600.0|        24|    Checking| 2600.0|\n|         12|   Isabella|       Lee|  1111 Poplar St|   Fredericton|   NB|E3B0A1|      9000.75|        64|    Checking| 6500.0|\n|         13|     Daniel|    Harris|   1212 Ash Blvd| Charlottetown|   PE|C1A0A1|       4500.0|        44|    Checking| 4500.0|\n|         14|     Sophia|     Young|   1313 Beech Dr|   Yellowknife|   NT|X1A0A1|       900.25|         9|     Savings| 900.25|\n|         15|    Matthew|      King|   1414 Cedar Ln|    Whitehorse|   YT|Y1A0A1|       3900.5|        38|    Checking| 3900.5|\n|         16|  Charlotte|     Scott|     1515 Elm St|       Iqaluit|   NU|X0A0A1|       5900.5|        58|    Checking| 5900.5|\n|         17|     Joseph|     Green|  1616 Maple Ave|        Regina|   SK|S4P0A1|       7300.0|        72|    Checking| 7300.0|\n|         18|     Amelia|     Adams|     1717 Oak Dr|     Saskatoon|   SK|S7K0A1|       1400.0|        16|    Checking| 1400.0|\n|         19|Christopher|     Baker|    1818 Pine Rd|   Thunder Bay|   ON|P7A0A1|       4100.0|        40|    Checking| 4100.0|\n|         20|        Mia|    Nelson| 1919 Birch Blvd|        London|   ON|N6A0A1|       6100.0|        60|    Checking| 6100.0|\n|         21|     Andrew|  Mitchell|  2020 Spruce Ln|      Hamilton|   ON|L8P0A1|      10700.5|        86|    Checking| 8700.5|\n|         22|     Harper|   Roberts|     2121 Fir St|     Kitchener|   ON|N2G0A1|       7700.0|        76|    Checking| 7700.0|\n|         23|     Joshua|    Turner| 2222 Redwood Dr|       Windsor|   ON|N9A0A1|       1200.5|         6|    Checking| 1200.5|\n|         24|     Evelyn|  Phillips|2323 Cypress Ave|      Kingston|   ON|K7L0A1|       4700.5|        46|    Checking| 4700.5|\n|         25|     Daniel|  Campbell|  2424 Willow Rd|St. Catharines|   ON|L2R0A1|       2800.5|        26|    Checking| 2800.5|\n|         26|    Abigail|    Parker|  2525 Poplar St|        Barrie|   ON|L4M0A1|       6700.5|        66|    Checking| 6700.5|\n|         27|      James|     Evans|   2626 Ash Blvd|        Guelph|   ON|N1H0A1|       3700.0|        36|    Checking| 3700.0|\n|         28|      Emily|   Edwards|   2727 Beech Dr|     Brantford|   ON|N3T0A1|       5700.0|        56|    Checking| 5700.0|\n|         29|    Michael|   Collins|   2828 Cedar Ln|   Thunder Bay|   ON|P7B0A1|      1300.25|        13|     Savings|1300.25|\n|         30|  Elizabeth|   Stewart|     2929 Elm St|  Peterborough|   ON|K9H0A1|       8100.0|        80|    Checking| 8100.0|\n|         31|      David|   Sanchez|  3030 Maple Ave|     North Bay|   ON|P1B0A1|       5100.5|        50|    Checking| 5100.5|\n|         32|     Sophia|    Morris|     3131 Oak Dr|    Belleville|   ON|K8N0A1|       3100.5|        30|    Checking| 3100.5|\n|         33|       John|    Rogers|    3232 Pine Rd|       Timmins|   ON|P4N0A1|       7100.5|        70|    Checking| 7100.5|\n|         34|     Olivia|      Reed| 3333 Birch Blvd|       Orillia|   ON|L3V0A1|      3000.25|         4|    Checking|3000.25|\n|         35|    William|      Cook|  3434 Spruce Ln|       Midland|   ON|L4R0A1|       6300.5|        62|    Checking| 6300.5|\n|         36|        Ava|    Morgan|     3535 Fir St|   Collingwood|   ON|L9Y0A1|       4300.5|        42|    Checking| 4300.5|\n|         37|  Alexander|      Bell| 3636 Redwood Dr|     Stratford|   ON|N5A0A1|       2400.5|        22|    Checking| 2400.5|\n|         38|   Isabella|    Murphy|3737 Cypress Ave|     Woodstock|   ON|N4S0A1|       9100.5|        90|    Checking| 9100.5|\n|         39|     Daniel|    Bailey|  3838 Willow Rd|   Orangeville|   ON|L9W0A1|       9500.5|        94|    Checking| 9500.5|\n|         40|     Sophia|    Rivera|  3939 Poplar St|        Milton|   ON|L9T0A1|       8500.0|        84|    Checking| 8500.0|\n|         41|    Matthew|    Cooper|   4040 Ash Blvd|    Georgetown|   ON|L7G0A1|       3500.5|        34|    Checking| 3500.5|\n|         42|  Charlotte|Richardson|   4141 Beech Dr|     Newmarket|   ON|L3Y0A1|       5500.5|        54|    Checking| 5500.5|\n|         43|     Joseph|       Cox|   4242 Cedar Ln|        Aurora|   ON|L4G0A1|       7500.5|        74|    Checking| 7500.5|\n|         44|     Amelia|    Howard|     4343 Elm St|      Bradford|   ON|L3Z0A1|       9300.0|        92|    Checking| 9300.0|\n|         45|Christopher|      Ward|  4444 Maple Ave|       Keswick|   ON|L4P0A1|       1000.5|         1|     Savings| 1000.5|\n|         46|        Mia|    Brooks|     4545 Oak Dr|   Stouffville|   ON|L4A0A1|         NULL|      NULL|        NULL|   NULL|\n|         47|     Andrew|      Gray|    4646 Pine Rd|      Uxbridge|   ON|L9P0A1|       700.75|        15|     Savings| 700.75|\n|         48|     Harper|     James| 4747 Birch Blvd|    Port Perry|   ON|L9L0A1|       9700.0|        96|    Checking| 9700.0|\n|         49|     Joshua|   Bennett|  4848 Spruce Ln|     Beaverton|   ON|L0K0A1|       9900.5|        98|    Checking| 9900.5|\n|         50|     Evelyn|    Barnes|     4949 Fir St|        Sutton|   ON|L0E0A1|      10100.0|       100|    Checking|10100.0|\n+-----------+-----------+----------+----------------+--------------+-----+------+-------------+----------+------------+-------+\nonly showing top 50 rows\n\n"
     ]
    }
   ],
   "source": [
    "transformed_df.show(50)"
   ]
  },
  {
   "cell_type": "code",
   "execution_count": 0,
   "metadata": {
    "application/vnd.databricks.v1+cell": {
     "cellMetadata": {
      "byteLimit": 2048000,
      "rowLimit": 10000
     },
     "inputWidgets": {},
     "nuid": "6553c445-67a0-4b87-9314-a7a9fd5dac25",
     "showTitle": false,
     "tableResultSettingsMap": {},
     "title": ""
    }
   },
   "outputs": [],
   "source": []
  }
 ],
 "metadata": {
  "application/vnd.databricks.v1+notebook": {
   "dashboards": [],
   "environmentMetadata": {
    "base_environment": "",
    "client": "1"
   },
   "language": "python",
   "notebookMetadata": {
    "pythonIndentUnit": 2
   },
   "notebookName": "ETL",
   "widgets": {}
  },
  "language_info": {
   "name": "python"
  }
 },
 "nbformat": 4,
 "nbformat_minor": 0
}
